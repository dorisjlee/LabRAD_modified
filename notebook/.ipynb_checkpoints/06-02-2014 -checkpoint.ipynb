{
 "metadata": {
  "name": ""
 },
 "nbformat": 3,
 "nbformat_minor": 0,
 "worksheets": [
  {
   "cells": [
    {
     "cell_type": "markdown",
     "metadata": {},
     "source": [
      "- Added if else for rabi_type that calls of compute coherent and thermal\n",
      "- generalized guess_f_rabi to any raw data input\n",
      "- Debugging and resolving package issues, also installation on local machine (lmfit, mpmath)\n",
      "- Running on python 2\n",
      "- matplotlib issue tight_layout resolved by simply commenting it out. (issue with Mac OSX)\n"
     ]
    },
    {
     "cell_type": "code",
     "collapsed": false,
     "input": [],
     "language": "python",
     "metadata": {},
     "outputs": [],
     "prompt_number": 1
    },
    {
     "cell_type": "code",
     "collapsed": false,
     "input": [],
     "language": "python",
     "metadata": {},
     "outputs": []
    }
   ],
   "metadata": {}
  }
 ]
}