{
 "metadata": {
  "name": "",
  "signature": "sha256:d0b949cc60064dcc2258e48ed26c3010d158469f3124bbf18c6fdd045427c863"
 },
 "nbformat": 3,
 "nbformat_minor": 0,
 "worksheets": [
  {
   "cells": [
    {
     "cell_type": "code",
     "collapsed": false,
     "input": [
      "cd ../common/abstractdevices/fitter/"
     ],
     "language": "python",
     "metadata": {},
     "outputs": [
      {
       "output_type": "stream",
       "stream": "stdout",
       "text": [
        "/Users/dorislee/Desktop/HaffnerLab/common/abstractdevices/fitter\n"
       ]
      }
     ],
     "prompt_number": 1
    },
    {
     "cell_type": "code",
     "collapsed": false,
     "input": [
      "%pylab inline\n",
      "from matplotlib import pyplot as plt\n",
      "import numpy as np\n",
      "from scipy.integrate import odeint\n",
      "#############\n",
      "from __future__ import division\n",
      "from get_data import *\n",
      "import lmfit as lmfit \n",
      "from datafit import DataFit\n",
      "from bloch import Bloch"
     ],
     "language": "python",
     "metadata": {},
     "outputs": [
      {
       "output_type": "stream",
       "stream": "stdout",
       "text": [
        "Populating the interactive namespace from numpy and matplotlib\n"
       ]
      }
     ],
     "prompt_number": 2
    },
    {
     "cell_type": "code",
     "collapsed": false,
     "input": [
      "dataobj = ReadData('2014Jun17',experiment = 'Spectrum729')\n",
      "car_data = dataobj.get_data('1903_14')\n",
      "plt.figure()\n",
      "plt.plot(car_data[:,0],car_data[:,1],'o')"
     ],
     "language": "python",
     "metadata": {},
     "outputs": [
      {
       "metadata": {},
       "output_type": "pyout",
       "prompt_number": 3,
       "text": [
        "[<matplotlib.lines.Line2D at 0x108595910>]"
       ]
      },
      {
       "metadata": {},
       "output_type": "display_data",
       "png": "[encoded data removed]",
       "text": [
        "<matplotlib.figure.Figure at 0x108569ad0>"
       ]
      }
     ],
     "prompt_number": 3
    },
    {
     "cell_type": "code",
     "collapsed": false,
     "input": [
      "b = Bloch()\n",
      "b.setData(car_data)\n",
      "initial_guess={'t_excitation':10.0 , 'height': 0.7,\n",
      "               'gamma':1e-4,'ohm': 2*np.pi*1000,\n",
      "               'shift':0.0}\n",
      "b.guess_shift()"
     ],
     "language": "python",
     "metadata": {},
     "outputs": [
      {
       "metadata": {},
       "output_type": "pyout",
       "prompt_number": 4,
       "text": [
        "-24.837209101328099"
       ]
      }
     ],
     "prompt_number": 4
    },
    {
     "cell_type": "markdown",
     "metadata": {},
     "source": [
      "Changed the mxstep step size of numerical integrator from 50000 to 15000 but it still complains that it does not converge"
     ]
    },
    {
     "cell_type": "code",
     "collapsed": false,
     "input": [
      "#Sucessful integration mxstep=1000000, and 500000\n",
      "fit_params={}\n",
      "for key in initial_guess.keys():\n",
      "    fit_params[key]=(True,True,initial_guess[key])\n",
      "print fit_params\n",
      "x,y=b.fit()\n",
      "# Not sure why the length of x and y differ by 1, fixed now by changes inside datafit (violate abstraction barrier)\n",
      "# b.fit()\n"
     ],
     "language": "python",
     "metadata": {},
     "outputs": [
      {
       "output_type": "stream",
       "stream": "stdout",
       "text": [
        "{'height': (True, True, 0.7), 'ohm': (True, True, 6283.185307179586), 't_excitation': (True, True, 10.0), 'gamma': (True, True, 0.0001), 'shift': (True, True, 0.0)}\n",
        "Parameters([('t_excitation', <Parameter 't_excitation', 10.0, bounds=[None:None]>), ('height', <Parameter 'height', 0.70999999999999996, bounds=[None:None]>), ('gamma', <Parameter 'gamma', 0.0001, bounds=[None:None]>), ('ohm', <Parameter 'ohm', 6283.185307179586, bounds=[None:None]>), ('shift', <Parameter 'shift', 0.0, bounds=[None:None]>)])\n",
        "-314159.265359\n",
        "[ -1.00000000e+00  -1.90149245e-04  -3.66535324e-05   2.43532040e-05\n",
        "   3.49071099e-05   2.69951149e-05   1.58135831e-05  -7.32769054e-07\n",
        "   9.11990873e-07  -1.00112497e-06   1.01904213e-06  -9.83152209e-07\n",
        "   9.14692020e-07  -8.12849288e-07   7.07799109e-07  -5.81446529e-07\n",
        "   4.48328145e-07  -3.21230193e-07   1.01916249e-07   2.99591942e-07\n",
        "  -1.12475249e-06   1.48804759e-06  -1.48708887e-06   1.17565729e-06\n",
        "  -5.82256598e-07  -3.01250412e-07   1.37185690e-06  -2.49862878e-06\n",
        "   3.11570092e-06  -2.92989444e-06   2.67244030e-06  -2.34502706e-06\n",
        "   1.94644175e-06  -1.51147754e-06   1.10437439e-06  -7.05154122e-07\n",
        "   3.63806724e-07  -8.91195687e-08  -1.66791424e-07   3.51584764e-07\n",
        "  -4.90843001e-07   5.72706287e-07  -6.04158785e-07   6.05641936e-07\n",
        "  -5.91889326e-07   5.55207432e-07  -5.67491324e-07   4.14817830e-07\n",
        "   3.83168394e-07  -9.72514378e-07]"
       ]
      },
      {
       "output_type": "stream",
       "stream": "stdout",
       "text": [
        "\n",
        "-282743.338823\n",
        "[ -1.00000000e+00  -2.63175500e-04  -9.65453306e-05  -1.18655025e-06\n",
        "   2.53549049e-05   2.16086422e-05   1.08274939e-05  -1.44085082e-06\n",
        "   8.03193324e-07  -1.20265759e-07   1.29394168e-06   1.34911004e-07\n",
        "  -1.42341089e-06  -2.41197580e-07  -1.28692879e-06   1.40480581e-06\n",
        "   1.79729065e-06   5.75319826e-07   8.46521252e-07  -2.75625702e-06\n",
        "  -1.85095088e-06  -7.68158349e-07  -8.57213369e-08   3.42866111e-06\n",
        "   1.60075491e-06   7.59734646e-07  -8.63733324e-07  -3.13541695e-06\n",
        "  -1.14019167e-06  -5.01505825e-07   1.66817530e-06   1.94527998e-06\n",
        "   7.31829795e-07   1.71378405e-08  -2.10633190e-06  -7.18136050e-07\n",
        "  -4.78451663e-07   5.90933861e-07   1.91986596e-06  -3.38684013e-07\n",
        "   2.96773003e-07  -1.10080038e-06  -9.93302924e-07   1.11335387e-06\n",
        "   1.12729402e-08   1.32007126e-06  -4.05581616e-07  -1.66955188e-06\n",
        "  -3.62924331e-07  -1.16155522e-06]"
       ]
      },
      {
       "output_type": "stream",
       "stream": "stdout",
       "text": [
        "\n",
        "-251327.412287\n",
        "[ -1.00000000e+00  -1.22830129e-04   1.24616299e-04   5.28467188e-05\n",
        "  -1.82918763e-05  -1.42280050e-05  -2.76229423e-07   9.27914524e-07\n",
        "   1.54383932e-06  -1.57874742e-08  -2.09979680e-06   2.25884256e-07\n",
        "   7.60369501e-07   2.31357459e-07   2.14602703e-06  -8.95520918e-07\n",
        "  -3.40157091e-06   1.09762766e-06   2.74475907e-06  -3.60269253e-07\n",
        "  -1.85017248e-06  -1.25272413e-06   1.02029758e-06   2.64519283e-06\n",
        "  -5.70701955e-07  -2.12303735e-06   1.06215533e-07  -5.97672622e-07\n",
        "   7.60314029e-07   1.58194547e-06  -1.49549336e-06  -1.71239542e-06\n",
        "   9.68239542e-07   1.58070463e-06   8.99771909e-07  -5.14508595e-07\n",
        "  -3.20713963e-06   8.31275539e-07   3.42575597e-06  -4.36273435e-07\n",
        "  -1.74249151e-06  -7.62027480e-07   5.29075251e-07   1.87554456e-06\n",
        "   3.14382310e-08  -1.82196318e-06   1.65120548e-07  -1.77369427e-07\n",
        "   4.46558092e-07   3.26970204e-06]"
       ]
      },
      {
       "output_type": "stream",
       "stream": "stdout",
       "text": [
        "\n",
        "-219911.485751\n",
        "[ -1.00000000e+00  -4.50609455e-05   1.37644660e-04   1.89708221e-08\n",
        "  -2.06940777e-05   3.33630974e-06  -3.35653054e-06   2.14106659e-06\n",
        "  -1.30476391e-06   7.28320593e-07  -4.40906185e-07  -2.41633684e-06\n",
        "   1.42399799e-06  -4.19667093e-07   6.11012367e-09  -1.25819865e-06\n",
        "   3.19588687e-06  -3.07724828e-06   2.06304122e-06  -1.28660320e-06\n",
        "   7.44628609e-07  -1.23978911e-07  -3.00797842e-06   1.75962404e-06\n",
        "  -6.23616003e-07   1.33560821e-07  -1.46262668e-06   3.04881422e-06\n",
        "  -2.70305099e-06   1.91427162e-06  -1.24343156e-06   7.40765006e-07\n",
        "   2.40381211e-07  -3.41538508e-06   2.14662294e-06  -8.63792452e-07\n",
        "   2.69218519e-07  -1.72129528e-06   2.81398359e-06  -2.19660934e-06\n",
        "   1.67598359e-06  -1.15427799e-06   7.28375381e-07   6.46753611e-07\n",
        "  -3.85830050e-06   2.37655026e-06  -1.12407830e-06   4.15301480e-07\n",
        "  -1.71140841e-06   2.49367491e-06]"
       ]
      },
      {
       "output_type": "stream",
       "stream": "stdout",
       "text": [
        "\n",
        "-188495.559215\n",
        "[ -1.00000000e+00  -2.01724681e-04   5.22604240e-05   3.00810736e-05\n",
        "   8.63013427e-07  -1.24489166e-06   1.78427569e-06  -2.51968798e-06\n",
        "   3.49559377e-06  -4.72143998e-06   4.10147250e-06  -1.13974740e-06\n",
        "  -9.15069543e-07   1.39927307e-06  -7.14249745e-07   8.68434824e-07\n",
        "  -1.01964809e-06   1.14454078e-06  -1.09518923e-06   1.05902664e-06\n",
        "   1.29593023e-06  -2.83414101e-06   2.54709273e-06  -3.54842703e-07\n",
        "  -4.17529871e-07   7.26086877e-07  -1.20470757e-06   1.91311673e-06\n",
        "  -2.95747845e-06   4.46156927e-06  -4.48072245e-06   2.54378140e-06\n",
        "  -4.49979021e-07  -9.76120838e-07   1.07469005e-06  -1.49790354e-06\n",
        "   2.01745842e-06  -2.63137883e-06   3.46959376e-06  -4.41215132e-06\n",
        "   1.01301796e-06   1.35970142e-06  -2.11324084e-06   4.23681244e-07\n",
        "  -3.34717815e-07   2.61023198e-07  -1.06959011e-07  -2.21003971e-07\n",
        "   8.11853708e-07  -1.93325878e-06]"
       ]
      },
      {
       "output_type": "stream",
       "stream": "stdout",
       "text": [
        "\n",
        "-157079.632679\n",
        "[ -1.00000000e+00  -2.25233900e-04  -1.58185197e-05   2.77614404e-06\n",
        "  -4.14390668e-06   1.18137665e-06  -3.44668385e-06   2.33747351e-06\n",
        "  -2.38091034e-06   1.17594524e-06  -1.34767587e-06  -1.71214760e-06\n",
        "  -1.99346136e-07   1.88278938e-08   2.90355045e-06   4.64546255e-07\n",
        "   5.65491721e-06  -2.12246958e-06   2.29664367e-06  -4.52235127e-06\n",
        "   8.21643590e-07  -4.76928795e-06   2.63983466e-06  -2.76320742e-06\n",
        "   2.35898941e-06  -1.42718901e-06  -2.04094710e-07  -1.00137253e-06\n",
        "   8.55245100e-07   1.75760340e-06   8.16517871e-07   4.79079672e-06\n",
        "  -1.57275073e-06   1.66683684e-06  -4.55296786e-06   3.96931674e-07\n",
        "  -5.45552623e-06   2.82619157e-06  -2.78873062e-06   3.39519501e-06\n",
        "  -1.27323940e-06   1.77635396e-06  -1.69873668e-06   1.64417113e-06\n",
        "   6.14507466e-07   1.09817925e-06   3.35837612e-06  -8.78843008e-07\n",
        "   8.47866893e-07  -4.16413520e-06]"
       ]
      },
      {
       "output_type": "stream",
       "stream": "stdout",
       "text": [
        "\n",
        "-125663.706144\n",
        "[ -1.00000000e+00   3.75773176e-05   9.08552551e-06   3.82552958e-06\n",
        "   9.30497050e-07  -2.34204187e-07   8.83797014e-07   3.34610239e-06\n",
        "   4.50373787e-06   5.63246360e-06   6.70001130e-06   7.51024157e-06\n",
        "   4.68538606e-06   2.21396140e-06   8.34501529e-07   2.95843831e-06\n",
        "   3.70111919e-06   3.88959042e-06   3.70616704e-06   3.02034704e-06\n",
        "   2.46442842e-06   2.99503895e-06   2.19566684e-06   1.22385864e-06\n",
        "   1.59176830e-06   1.05658286e-06   8.66084392e-08  -1.28139256e-06\n",
        "  -3.17423884e-06  -3.30171334e-06   6.13548426e-08   9.76562696e-07\n",
        "   9.74431261e-07  -1.42161677e-06  -2.53430331e-06  -3.91785104e-06\n",
        "  -5.58905058e-06  -7.47235505e-06  -5.95965008e-06  -2.53499905e-06\n",
        "  -5.97087121e-07  -5.96339913e-07  -3.56258762e-06  -4.46736589e-06\n",
        "  -5.28559121e-06  -5.90381228e-06  -6.14238821e-06  -5.27232232e-06\n",
        "  -3.42485975e-06  -1.70977651e-06]"
       ]
      },
      {
       "output_type": "stream",
       "stream": "stdout",
       "text": [
        "\n",
        "-94247.7796077\n",
        "[ -1.00000000e+00  -4.82064074e-05  -4.13689660e-06   2.94602281e-06\n",
        "  -1.51005761e-06  -3.33267499e-07   3.60611502e-06  -2.31177098e-06\n",
        "   9.41193687e-07  -2.13688498e-06   2.09505771e-06   3.03356633e-07\n",
        "  -2.26330440e-06   3.57135699e-06  -4.66971232e-06   5.46229472e-06\n",
        "  -5.83384618e-06   4.77133082e-06   4.33227736e-07  -2.10601394e-06\n",
        "   1.87024181e-06  -3.15771698e-06   4.41134267e-06  -2.88703699e-06\n",
        "   2.10044890e-06  -8.21878074e-07  -8.40383618e-07   2.79373316e-06\n",
        "  -4.87931706e-06   2.72865130e-06   1.24147035e-08   4.10980691e-08\n",
        "  -1.18917270e-07  -1.39411765e-06   3.15039403e-06  -4.30055613e-06\n",
        "   5.27311715e-06  -5.77980655e-06   5.84738227e-06  -9.74189477e-07\n",
        "  -1.96272981e-06   1.88855723e-06  -2.53173715e-06   3.17014995e-06\n",
        "  -4.00945584e-06   1.93618913e-06  -9.18332532e-07  -5.44384314e-07\n",
        "   2.33009707e-06  -4.34837080e-06]"
       ]
      },
      {
       "output_type": "stream",
       "stream": "stdout",
       "text": [
        "\n",
        "-62831.8530718\n",
        "[ -1.00000000e+00   1.92929005e-06  -1.06989537e-06  -2.34788369e-06\n",
        "  -2.11155509e-06  -2.76935976e-06  -3.01930498e-06  -3.01210765e-06\n",
        "  -4.51652414e-07   1.86587776e-06   2.38079583e-06   1.88625458e-06\n",
        "   1.55627185e-06   3.36505257e-07  -8.04638171e-07  -1.60974192e-06\n",
        "  -1.93343594e-06  -1.76220979e-06  -2.63606355e-06  -2.52815260e-06\n",
        "  -2.05575225e-06  -1.15530659e-06   1.69116789e-06   2.92332103e-06\n",
        "   1.98699041e-06   7.41164877e-07  -3.64791041e-07  -8.32726630e-07\n",
        "  -1.92280198e-06  -2.81221209e-06  -3.33631307e-06  -3.37291166e-06\n",
        "  -2.86640066e-06  -1.84355815e-06  -4.17599850e-07   1.22136897e-06\n",
        "   2.82933961e-06   4.14246665e-06   2.32362646e-06   1.39001773e-06\n",
        "   5.81046797e-08  -1.64785018e-06  -2.28653447e-06  -2.80367590e-06\n",
        "  -2.51476219e-06  -1.78097560e-06  -6.92491281e-07   5.92955831e-07\n",
        "   1.87391854e-06   2.93404672e-06]"
       ]
      },
      {
       "output_type": "stream",
       "stream": "stdout",
       "text": [
        "\n",
        "-31415.9265359\n",
        "[ -1.00000000e+00  -7.25413656e-07  -4.51626499e-07   2.84488570e-09\n",
        "  -7.37768810e-08   6.71983617e-07   1.10082867e-06   1.18308634e-06\n",
        "   6.67440109e-07   4.35767792e-07   1.30926461e-07  -2.15417105e-07\n",
        "  -5.63128885e-07  -8.68861183e-07  -1.09146317e-06  -1.19563857e-06\n",
        "  -1.15881062e-06  -9.74630100e-07  -6.53645782e-07  -2.24371369e-07\n",
        "   2.67778635e-07   7.66867873e-07   1.21112441e-06   1.54006613e-06\n",
        "   1.70383384e-06   2.99814260e-07   9.16820556e-08  -2.44263152e-07\n",
        "  -4.17822745e-07  -7.86650383e-07  -8.52712258e-07  -7.86947891e-07\n",
        "  -1.40384178e-06  -4.03012992e-07  -1.33095154e-07   1.93712925e-07\n",
        "   5.49323210e-07   8.97257733e-07   1.19717362e-06   1.40635486e-06\n",
        "   1.48829736e-06   1.41219363e-06   1.16348889e-06  -1.74862080e-07\n",
        "  -4.64216795e-07  -8.72700068e-07  -1.26848222e-06  -8.78305759e-07\n",
        "  -8.42468870e-07  -1.07799909e-06]"
       ]
      },
      {
       "output_type": "stream",
       "stream": "stdout",
       "text": [
        "\n",
        "1.7462298274e-10\n",
        "[ -1.00000000e+00   2.54069221e-20   1.63530354e-20   7.29914875e-21\n",
        "   2.88216434e-28  -9.12201567e-28  -2.11261957e-27  -3.18178144e-27\n",
        "  -3.10358074e-27  -3.02538005e-27  -2.94717935e-27  -2.86897866e-27\n",
        "  -2.79077796e-27  -2.71257727e-27  -2.63437657e-27  -2.55617588e-27\n",
        "  -2.47797518e-27  -2.39977449e-27  -2.32157379e-27  -2.24337310e-27\n",
        "  -2.16517240e-27  -2.08697171e-27  -2.00877101e-27  -1.93057032e-27\n",
        "  -1.85236962e-27  -1.77416893e-27  -1.69596823e-27  -1.61776754e-27\n",
        "  -1.53956684e-27  -1.46136615e-27  -1.38316545e-27  -1.30496476e-27\n",
        "  -1.22676406e-27  -1.14856337e-27  -1.07036267e-27  -9.92161975e-28\n",
        "  -9.13961280e-28  -8.35760585e-28  -7.72503081e-28  -7.72499773e-28\n",
        "  -7.72496464e-28  -7.72493155e-28  -7.72489846e-28  -7.72486538e-28\n",
        "  -7.72483229e-28  -7.72479920e-28  -7.72476611e-28  -7.72473303e-28\n",
        "  -7.72469994e-28  -7.72466685e-28]\n",
        "31415.9265359\n",
        "[ -1.00000000e+00  -6.91925700e-07  -4.29993175e-07  -1.12060077e-07\n",
        "   3.11006290e-07   6.72362877e-07   8.34342838e-07   1.28939775e-06\n",
        "   1.02704552e-06   8.45479073e-07   1.55488561e-07  -3.79953056e-07\n",
        "  -6.73549929e-07  -9.44967376e-07  -1.15988781e-06  -1.28474205e-06\n",
        "  -1.28921864e-06  -1.15062241e-06  -8.58717348e-07   4.10759850e-07\n",
        "   7.82527567e-07   1.04813216e-06   1.47808314e-06   1.17682023e-06\n",
        "   7.30336784e-07   7.92306376e-09  -2.26822120e-07  -5.55788102e-07\n",
        "  -9.91670313e-07  -1.14597541e-06  -7.48758424e-07  -7.30076995e-07\n",
        "  -6.29398055e-07  -4.25106416e-07  -9.55924048e-08   8.25750234e-07\n",
        "   9.44456419e-07   8.62759664e-07   1.23129272e-06   2.06425457e-07\n",
        "   6.19303919e-07  -4.40902325e-07  -8.48321971e-07  -1.29735091e-06\n",
        "  -1.29233697e-06  -1.04773952e-06  -5.60820588e-07  -5.42945945e-08\n",
        "   5.51469661e-07   8.38208850e-07]"
       ]
      },
      {
       "output_type": "stream",
       "stream": "stdout",
       "text": [
        "\n",
        "62831.8530718\n",
        "[ -1.00000000e+00   1.97973538e-06  -1.11179376e-06  -2.30658846e-06\n",
        "  -1.96708071e-06  -2.90292945e-06  -3.23088694e-06  -3.31921037e-06\n",
        "   7.66566934e-07   2.21330822e-06   3.16446778e-06   1.63936894e-06\n",
        "   2.13655065e-06   2.23864877e-06  -4.68031307e-07  -2.05803297e-06\n",
        "  -2.64630114e-06  -1.63163622e-06  -1.12203438e-06   3.11839258e-07\n",
        "   8.93347026e-07   1.91833881e-06   3.15636668e-06   2.75383802e-06\n",
        "   2.82908043e-06  -2.29383854e-08  -1.21006943e-06  -1.88308166e-06\n",
        "  -2.78744901e-06  -3.06019089e-06  -2.93331976e-06  -2.35217590e-06\n",
        "  -1.31952241e-06   9.62590158e-08   1.75702967e-06   3.33538428e-06\n",
        "   2.19988325e-06   2.36878664e-06  -1.19216887e-07  -1.54640624e-06\n",
        "  -2.44329100e-06  -3.10391702e-06  -3.39191953e-06  -3.20702166e-06\n",
        "  -2.50607784e-06  -1.31695589e-06   2.52461101e-07   2.02111634e-06\n",
        "   3.85837050e-06   2.39310696e-06]"
       ]
      },
      {
       "output_type": "stream",
       "stream": "stdout",
       "text": [
        "\n",
        "94247.7796077\n",
        "[ -1.00000000e+00  -4.82067293e-05  -4.11466920e-06   3.41060094e-06\n",
        "  -2.14997602e-06  -1.04957601e-06   3.10203647e-06  -1.14835200e-06\n",
        "   2.12313436e-06  -2.18513891e-06   1.90766308e-06   4.34523497e-07\n",
        "  -1.87078206e-06   3.50264834e-06  -4.98148108e-06   6.16774612e-06\n",
        "  -6.86928776e-06   1.33479016e-06   1.45693619e-06  -2.03587516e-06\n",
        "   3.05043884e-06  -4.22042967e-06   3.90118815e-06  -3.27236299e-06\n",
        "   2.34267627e-06  -1.00849816e-06  -9.39604370e-07   2.98615416e-06\n",
        "  -5.08031977e-06   3.61912713e-06  -4.95709396e-07  -4.79269122e-07\n",
        "   4.76634307e-07  -1.42511868e-06   3.21724872e-06  -4.32679416e-06\n",
        "   4.90452615e-06  -5.07687995e-06   4.81313070e-06  -3.65763947e-06\n",
        "  -1.88522801e-06   1.85312221e-06  -2.44311290e-06   4.28755502e-06\n",
        "  -3.81402449e-06   1.90050235e-06  -7.04152702e-07  -9.08078735e-07\n",
        "   2.67832944e-06  -4.54708991e-06]"
       ]
      },
      {
       "output_type": "stream",
       "stream": "stdout",
       "text": [
        "\n",
        "125663.706144\n",
        "[ -1.00000000e+00   3.75646166e-05   9.02639885e-06   3.66098163e-06\n",
        "   9.11960130e-07  -2.77593423e-07   1.20633832e-06   3.48424190e-06\n",
        "   4.65603648e-06   5.82617054e-06   6.88220774e-06   7.21683247e-06\n",
        "   4.36996377e-06   2.08934439e-06   7.18628570e-07   3.21240171e-06\n",
        "   3.73787828e-06   3.89993751e-06   3.73129265e-06   3.09914852e-06\n",
        "   2.30439411e-06   3.04807323e-06   2.31281015e-06   1.37330429e-06\n",
        "   1.80509189e-06   1.12033600e-06   1.54024272e-07  -1.24530505e-06\n",
        "  -3.06169191e-06  -3.79157709e-06  -1.81559398e-07   9.31901655e-07\n",
        "   9.88132628e-07  -1.27485908e-06  -2.47194442e-06  -3.87347886e-06\n",
        "  -5.54736485e-06  -7.32024036e-06  -6.75008175e-06  -2.90932862e-06\n",
        "  -7.70546569e-07  -1.61469554e-07  -3.37360525e-06  -4.27605469e-06\n",
        "  -5.07622236e-06  -5.75266487e-06  -6.12699209e-06  -5.73076992e-06\n",
        "  -3.79202084e-06  -1.95735663e-06]"
       ]
      },
      {
       "output_type": "stream",
       "stream": "stdout",
       "text": [
        "\n",
        "157079.632679\n",
        "[ -1.00000000e+00  -2.25234290e-04  -1.58176312e-05   2.77319936e-06\n",
        "  -4.16769100e-06   1.16513662e-06  -3.41367513e-06   2.33654042e-06\n",
        "  -2.33460285e-06   1.10701831e-06  -1.36389370e-06  -2.14254609e-06\n",
        "  -1.88020341e-07  -9.83123535e-08   2.81144280e-06   4.33150932e-07\n",
        "   5.71085271e-06  -2.12736572e-06   2.34285440e-06  -4.50041569e-06\n",
        "   8.30776749e-07  -4.73316101e-06   2.69771759e-06  -2.72375638e-06\n",
        "   2.35911675e-06  -1.36310653e-06   7.37551063e-08  -9.69584430e-07\n",
        "   9.30150778e-07   1.96295246e-06   8.32988867e-07   4.52190673e-06\n",
        "  -1.60073091e-06   1.45313121e-06  -4.75063851e-06   3.13245712e-07\n",
        "  -5.23749546e-06   2.94749966e-06  -2.60899609e-06   3.38158685e-06\n",
        "  -1.17178950e-06   1.84538178e-06  -1.65484144e-06   1.62568688e-06\n",
        "   9.39165798e-07   1.05321203e-06   3.02117954e-06  -1.05870341e-06\n",
        "   6.75524883e-07  -4.54048769e-06]"
       ]
      },
      {
       "output_type": "stream",
       "stream": "stdout",
       "text": [
        "\n",
        "188495.559215\n",
        "[ -1.00000000e+00  -2.01687290e-04   5.22500237e-05   3.00867846e-05\n",
        "   8.79505204e-07  -1.26719208e-06   1.81486318e-06  -2.55677094e-06\n",
        "   3.58063423e-06  -4.91984386e-06   3.81520897e-06  -9.22780721e-07\n",
        "  -1.03160472e-06   1.18551304e-06  -7.62161563e-07   9.07641771e-07\n",
        "  -1.11555175e-06   1.26072515e-06  -1.33863808e-06   1.16692559e-06\n",
        "   1.57236710e-06  -2.82509265e-06   2.41112740e-06  -1.35497691e-07\n",
        "  -4.20017310e-07   7.37631479e-07  -1.22042828e-06   1.96032455e-06\n",
        "  -3.03445429e-06   4.57003367e-06  -4.34335682e-06   2.35475477e-06\n",
        "  -3.37940112e-07  -9.33284577e-07   1.10407688e-06  -1.52388426e-06\n",
        "   2.05252119e-06  -2.66330011e-06   3.45801022e-06  -4.35701340e-06\n",
        "   7.72709841e-07   1.46007644e-06  -2.05713525e-06   3.49397634e-07\n",
        "  -3.34332331e-07   2.80991361e-07  -1.21774600e-07  -1.98812981e-07\n",
        "   7.62846287e-07  -2.15837589e-06]"
       ]
      },
      {
       "output_type": "stream",
       "stream": "stdout",
       "text": [
        "\n",
        "219911.485751\n",
        "[ -1.00000000e+00  -4.50608559e-05   1.37631867e-04   1.10271160e-08\n",
        "  -2.06916047e-05   3.36978485e-06  -3.36626401e-06   2.14095480e-06\n",
        "  -1.28375866e-06   7.09514975e-07  -4.31065481e-07  -2.69387473e-06\n",
        "   1.30574381e-06  -3.62573388e-07  -3.04442976e-08  -1.63520299e-06\n",
        "   3.30200148e-06  -3.05002146e-06   2.01874055e-06  -1.23470083e-06\n",
        "   7.44035801e-07  -1.80707526e-08  -3.25115408e-06   1.59439112e-06\n",
        "  -5.32758097e-07   8.42327299e-08  -1.84176728e-06   3.12945919e-06\n",
        "  -2.68099638e-06   1.87703350e-06  -1.21035996e-06   7.27998972e-07\n",
        "   3.68564080e-07  -3.72297865e-06   1.91051995e-06  -7.66820704e-07\n",
        "   2.22188126e-07  -1.95226383e-06   2.85018299e-06  -2.20053402e-06\n",
        "   1.63213445e-06  -1.08376595e-06   7.81930280e-07   9.03689066e-07\n",
        "  -4.31054656e-06   2.16146827e-06  -9.56067798e-07   3.43475225e-07\n",
        "  -1.99904523e-06   2.50656430e-06]"
       ]
      },
      {
       "output_type": "stream",
       "stream": "stdout",
       "text": [
        "\n",
        "251327.412287\n",
        "[ -1.00000000e+00  -1.22830036e-04   1.24614682e-04   5.28693870e-05\n",
        "  -1.82878870e-05  -1.42321907e-05  -2.87667346e-07   9.52381374e-07\n",
        "   1.56279818e-06  -1.72003125e-08  -2.11972470e-06   2.84427328e-07\n",
        "   5.85206656e-07   2.85496598e-07   2.50442367e-06  -9.91702670e-07\n",
        "  -3.12881862e-06   1.13053508e-06   2.45950213e-06  -2.20497346e-07\n",
        "  -1.71601840e-06  -1.48690581e-06   8.97579309e-07   2.78261150e-06\n",
        "  -5.83730850e-07  -2.02161088e-06   2.57423167e-08  -2.53700217e-07\n",
        "   9.12592816e-07   1.18142756e-06  -1.60300597e-06  -1.46815182e-06\n",
        "   9.20161601e-07   8.80407940e-07   1.17177897e-06  -5.97788514e-07\n",
        "  -3.37968850e-06   8.68129186e-07   3.32395414e-06  -3.88148774e-07\n",
        "  -1.78228063e-06  -9.26142054e-07   6.73974320e-07   2.17990144e-06\n",
        "  -4.07263750e-07  -1.86312464e-06   1.17595304e-07  -5.66200646e-07\n",
        "   6.46797714e-07   2.79287589e-06]"
       ]
      },
      {
       "output_type": "stream",
       "stream": "stdout",
       "text": [
        "\n",
        "282743.338823\n",
        "[ -1.00000000e+00  -2.63175499e-04  -9.64940478e-05  -1.15661924e-06\n",
        "   2.53610861e-05   2.16056987e-05   1.07549555e-05  -1.39613047e-06\n",
        "   8.37446035e-07  -9.83385815e-08   1.28224143e-06   8.88885314e-08\n",
        "  -1.55717025e-06  -2.43903254e-07  -1.25135399e-06   1.43542279e-06\n",
        "   1.83654520e-06   5.96534357e-07   8.16503035e-07  -2.91581816e-06\n",
        "  -1.78696152e-06  -7.94141816e-07   7.22258753e-09   3.59303385e-06\n",
        "   1.52819307e-06   7.79531642e-07  -9.76545077e-07  -3.04090864e-06\n",
        "  -1.10547204e-06  -4.80457376e-07   1.84490220e-06   1.93494278e-06\n",
        "   7.40186065e-07  -3.81576734e-08  -2.20103494e-06  -7.37603295e-07\n",
        "  -4.84151250e-07   6.35585898e-07   1.89797021e-06  -3.32483343e-07\n",
        "   2.80507519e-07  -1.13023090e-06  -9.36074736e-07   1.05964419e-06\n",
        "   3.33169128e-08   1.36926927e-06  -5.67666494e-07  -1.55247110e-06\n",
        "  -4.06670532e-07  -1.15724221e-06]"
       ]
      },
      {
       "output_type": "stream",
       "stream": "stdout",
       "text": [
        "\n",
        "-314159.265359\n",
        "[ -1.00000000e+00  -1.90149245e-04  -3.66535324e-05   2.43532040e-05\n",
        "   3.49071099e-05   2.69951149e-05   1.58135831e-05  -7.32769054e-07\n",
        "   9.11990873e-07  -1.00112497e-06   1.01904213e-06  -9.83152209e-07\n",
        "   9.14692020e-07  -8.12849288e-07   7.07799109e-07  -5.81446529e-07\n",
        "   4.48328145e-07  -3.21230193e-07   1.01916249e-07   2.99591942e-07\n",
        "  -1.12475249e-06   1.48804759e-06  -1.48708887e-06   1.17565729e-06\n",
        "  -5.82256598e-07  -3.01250412e-07   1.37185690e-06  -2.49862878e-06\n",
        "   3.11570092e-06  -2.92989444e-06   2.67244030e-06  -2.34502706e-06\n",
        "   1.94644175e-06  -1.51147754e-06   1.10437439e-06  -7.05154122e-07\n",
        "   3.63806724e-07  -8.91195687e-08  -1.66791424e-07   3.51584764e-07\n",
        "  -4.90843001e-07   5.72706287e-07  -6.04158785e-07   6.05641936e-07\n",
        "  -5.91889326e-07   5.55207432e-07  -5.67491324e-07   4.14817830e-07\n",
        "   3.83168394e-07  -9.72514378e-07]"
       ]
      },
      {
       "output_type": "stream",
       "stream": "stdout",
       "text": [
        "\n",
        "-282743.338823\n",
        "[ -1.00000000e+00  -2.63175500e-04  -9.65453306e-05  -1.18655025e-06\n",
        "   2.53549049e-05   2.16086422e-05   1.08274939e-05  -1.44085082e-06\n",
        "   8.03193324e-07  -1.20265759e-07   1.29394168e-06   1.34911004e-07\n",
        "  -1.42341089e-06  -2.41197580e-07  -1.28692879e-06   1.40480581e-06\n",
        "   1.79729065e-06   5.75319826e-07   8.46521252e-07  -2.75625702e-06\n",
        "  -1.85095088e-06  -7.68158349e-07  -8.57213369e-08   3.42866111e-06\n",
        "   1.60075491e-06   7.59734646e-07  -8.63733324e-07  -3.13541695e-06\n",
        "  -1.14019167e-06  -5.01505825e-07   1.66817530e-06   1.94527998e-06\n",
        "   7.31829795e-07   1.71378405e-08  -2.10633190e-06  -7.18136050e-07\n",
        "  -4.78451663e-07   5.90933861e-07   1.91986596e-06  -3.38684013e-07\n",
        "   2.96773003e-07  -1.10080038e-06  -9.93302924e-07   1.11335387e-06\n",
        "   1.12729402e-08   1.32007126e-06  -4.05581616e-07  -1.66955188e-06\n",
        "  -3.62924331e-07  -1.16155522e-06]"
       ]
      }
     ]
    },
    {
     "cell_type": "code",
     "collapsed": false,
     "input": [
      "plot (x,y)"
     ],
     "language": "python",
     "metadata": {},
     "outputs": []
    },
    {
     "cell_type": "code",
     "collapsed": false,
     "input": [
      "# a= ('1',2,3)\n",
      "# list(a)"
     ],
     "language": "python",
     "metadata": {},
     "outputs": []
    },
    {
     "cell_type": "code",
     "collapsed": false,
     "input": [
      "# sol = (array([[  0.00000000e+00,   0.00000000e+00,  -1.00000000e+00],\n",
      "#        [  9.77546951e-03,  -8.12054905e-03,  -1.90149245e-04],\n",
      "#        [  2.07472326e-03,  -7.54884538e-03,  -3.66535324e-05],\n",
      "#        [ -1.08017735e-03,  -4.35962091e-03,   2.43532040e-05],\n",
      "#        [ -1.68708755e-03,  -1.88680716e-03,   3.49071099e-05],\n",
      "#        [ -1.33532550e-03,  -4.96467599e-04,   2.69951149e-05],\n",
      "#        [ -7.94745876e-04,   1.02652870e-04,   1.58135831e-05],\n",
      "#        [  3.45792098e-05,   6.58846482e-05,  -7.32769054e-07],\n",
      "#        [ -4.39830310e-05,  -5.22554340e-05,   9.11990873e-07],\n",
      "#        [  4.88840354e-05,   3.84335836e-05,  -1.00112497e-06],\n",
      "#        [ -5.01928759e-05,  -2.54826741e-05,   1.01904213e-06],\n",
      "#        [  4.87703805e-05,   1.37341599e-05,  -9.83152209e-07],\n",
      "#        [ -4.56715514e-05,  -3.43674933e-06,   9.14692020e-07],\n",
      "#        [  4.08380948e-05,  -4.85519328e-06,  -8.12849288e-07],\n",
      "#        [ -3.58176633e-05,   1.23161597e-05,   7.07799109e-07],\n",
      "#        [  2.96574284e-05,  -1.74638350e-05,  -5.81446529e-07],\n",
      "#        [ -2.30934199e-05,   2.05642281e-05,   4.48328145e-07],\n",
      "#        [  1.67626432e-05,  -2.15245121e-05,  -3.21230193e-07],\n",
      "#        [ -6.07834931e-06,   3.07175003e-05,   1.01916249e-07],\n",
      "#        [ -1.38166719e-05,  -3.70255974e-05,   2.99591942e-07],\n",
      "#        [  5.54976542e-05,   2.50455205e-05,  -1.12475249e-06],\n",
      "#        [ -7.46596627e-05,   5.71867210e-06,   1.48804759e-06],\n",
      "#        [  7.56807541e-05,  -3.93180916e-05,  -1.48708887e-06],\n",
      "#        [ -6.12328160e-05,   7.51278783e-05,   1.17565729e-06],\n",
      "#        [  3.23332852e-05,  -1.00287695e-04,  -5.82256598e-07],\n",
      "#        [  1.12882025e-05,   1.19100346e-04,  -3.01250412e-07],\n",
      "#        [ -6.48594911e-05,  -1.19516144e-04,   1.37185690e-06],\n",
      "#        [  1.22013006e-04,   9.56970126e-05,  -2.49862878e-06],\n",
      "#        [ -1.54264481e-04,  -5.27458621e-05,   3.11570092e-06],\n",
      "#        [  1.46022455e-04,   1.95038493e-05,  -2.92989444e-06],\n",
      "#        [ -1.34063217e-04,   9.61468980e-06,   2.67244030e-06],\n",
      "#        [  1.18508333e-04,  -3.57742246e-05,  -2.34502706e-06],\n",
      "#        [ -9.91345485e-05,   5.38662788e-05,   1.94644175e-06],\n",
      "#        [  7.76387027e-05,  -6.24897094e-05,  -1.51147754e-06],\n",
      "#        [ -5.74601408e-05,   6.86874972e-05,   1.10437439e-06],\n",
      "#        [  3.76316683e-05,  -7.34881848e-05,  -7.05154122e-07],\n",
      "#        [ -2.04651069e-05,   7.09138006e-05,   3.63806724e-07],\n",
      "#        [  6.52180028e-06,  -6.47838593e-05,  -8.91195687e-08],\n",
      "#        [  6.46387832e-06,   5.92155276e-05,  -1.66791424e-07],\n",
      "#        [ -1.59754841e-05,  -5.09628970e-05,   3.51584764e-07],\n",
      "#        [  2.32140378e-05,   4.25214394e-05,  -4.90843001e-07],\n",
      "#        [ -2.76009067e-05,  -3.34209885e-05,   5.72706287e-07],\n",
      "#        [  2.94559490e-05,   2.45950761e-05,  -6.04158785e-07],\n",
      "#        [ -2.97853205e-05,  -1.65764472e-05,   6.05641936e-07],\n",
      "#        [  2.93258152e-05,   9.38494234e-06,  -5.91889326e-07],\n",
      "#        [ -2.76932135e-05,  -2.99396351e-06,   5.55207432e-07],\n",
      "#        [  2.86698147e-05,  -8.37638315e-06,  -5.67491324e-07],\n",
      "#        [ -2.20531376e-05,   4.05819622e-05,   4.14817830e-07],\n",
      "#        [ -1.70541236e-05,  -6.67444161e-05,   3.83168394e-07],\n",
      "#        [  4.67099131e-05,   6.17580517e-05,  -9.72514378e-07]]), {'nfe': array([  613379,  1181257,  1705837,  2219951,  2733591,  3246949,\n",
      "#         3723897,  4095861,  4467863,  4839901,  5211873,  5583849,\n",
      "#         5955811,  6327865,  6699893,  7071841,  7443715,  7815423,\n",
      "#         8187283,  8558731,  8930933,  9303379,  9675721, 10047937,\n",
      "#        10420289, 10792709, 11165089, 11537329, 11909337, 12281373,\n",
      "#        12653311, 13025331, 13397245, 13769175, 14141099, 14513013,\n",
      "#        14884899, 15256909, 15628829, 16000901, 16372855, 16744737,\n",
      "#        17116625, 17488609, 17860561, 18232321, 18603821, 18975375, 19347715], dtype=int32), 'nje': array([0, 0, 0, 0, 0, 0, 0, 0, 0, 0, 0, 0, 0, 0, 0, 0, 0, 0, 0, 0, 0, 0, 0,\n",
      "#        0, 0, 0, 0, 0, 0, 0, 0, 0, 0, 0, 0, 0, 0, 0, 0, 0, 0, 0, 0, 0, 0, 0,\n",
      "#        0, 0, 0], dtype=int32), 'tolsf': array([ 0.,  0.,  0.,  0.,  0.,  0.,  0.,  0.,  0.,  0.,  0.,  0.,  0.,\n",
      "#         0.,  0.,  0.,  0.,  0.,  0.,  0.,  0.,  0.,  0.,  0.,  0.,  0.,\n",
      "#         0.,  0.,  0.,  0.,  0.,  0.,  0.,  0.,  0.,  0.,  0.,  0.,  0.,\n",
      "#         0.,  0.,  0.,  0.,  0.,  0.,  0.,  0.,  0.,  0.]), 'nqu': array([6, 6, 6, 6, 6, 6, 5, 5, 5, 5, 5, 5, 5, 5, 5, 5, 5, 4, 4, 4, 4, 4, 4,\n",
      "#        4, 4, 4, 4, 5, 5, 5, 5, 5, 5, 5, 5, 5, 5, 5, 5, 5, 5, 5, 5, 5, 5, 4,\n",
      "#        4, 4, 4], dtype=int32), 'lenrw': 68, 'tcur': array([  0.20408231,   0.40816373,   0.61224515,   0.81632675,\n",
      "#          1.02040842,   1.22449015,   1.42857166,   1.63265399,\n",
      "#          1.83673578,   2.04081713,   2.24489836,   2.44898028,\n",
      "#          2.65306138,   2.85714311,   3.06122546,   3.26530702,\n",
      "#          3.46938815,   3.67346974,   3.87755126,   4.08163367,\n",
      "#          4.2857144 ,   4.48979666,   4.69387776,   4.89795935,\n",
      "#          5.10204106,   5.30612309,   5.51020459,   5.71428658,\n",
      "#          5.91836813,   6.12244921,   6.32653111,   6.53061296,\n",
      "#          6.73469475,   6.93877577,   7.14285734,   7.34693953,\n",
      "#          7.55102097,   7.75510248,   7.95918457,   8.16326579,\n",
      "#          8.36734749,   8.57142927,   8.77551103,   8.97959266,\n",
      "#          9.18367375,   9.38775521,   9.5918378 ,   9.79591905,  10.00000024]), 'hu': array([  7.18750910e-07,   7.18750910e-07,   7.93344105e-07,\n",
      "#          7.94333362e-07,   7.95251579e-07,   7.95468308e-07,\n",
      "#          1.11367861e-06,   1.11356426e-06,   1.11356122e-06,\n",
      "#          1.11357700e-06,   1.11358813e-06,   1.11361593e-06,\n",
      "#          1.11364744e-06,   1.11404778e-06,   1.11359839e-06,\n",
      "#          1.11359499e-06,   1.11360184e-06,   1.22511576e-06,\n",
      "#          1.22656777e-06,   1.22585614e-06,   1.02085728e-06,\n",
      "#          1.02157553e-06,   1.02215923e-06,   1.02146169e-06,\n",
      "#          1.02106302e-06,   1.02063274e-06,   1.02196329e-06,\n",
      "#          1.11400098e-06,   1.11364678e-06,   1.11357481e-06,\n",
      "#          1.11364298e-06,   1.11369506e-06,   1.11360893e-06,\n",
      "#          1.11361286e-06,   1.11354970e-06,   1.11356052e-06,\n",
      "#          1.11356170e-06,   1.11363877e-06,   1.11357408e-06,\n",
      "#          1.11358444e-06,   1.11358103e-06,   1.11358894e-06,\n",
      "#          1.11359657e-06,   1.11359532e-06,   1.11360229e-06,\n",
      "#          1.22665294e-06,   1.22664059e-06,   1.02181090e-06,\n",
      "#          1.02100519e-06]), 'imxer': -1, 'leniw': 23, 'tsw': array([ 0.,  0.,  0.,  0.,  0.,  0.,  0.,  0.,  0.,  0.,  0.,  0.,  0.,\n",
      "#         0.,  0.,  0.,  0.,  0.,  0.,  0.,  0.,  0.,  0.,  0.,  0.,  0.,\n",
      "#         0.,  0.,  0.,  0.,  0.,  0.,  0.,  0.,  0.,  0.,  0.,  0.,  0.,\n",
      "#         0.,  0.,  0.,  0.,  0.,  0.,  0.,  0.,  0.,  0.]), 'message': 'Integration successful.', 'nst': array([ 306688,  590627,  852917, 1109974, 1366794, 1623473, 1861947,\n",
      "#        2047923, 2233918, 2419931, 2605911, 2791893, 2977868, 3163889,\n",
      "#        3349897, 3535865, 3721796, 3907644, 4093568, 4279286, 4465380,\n",
      "#        4651597, 4837762, 5023864, 5210034, 5396238, 5582422, 5768535,\n",
      "#        5954533, 6140545, 6326508, 6512512, 6698463, 6884422, 7070378,\n",
      "#        7256329, 7442266, 7628265, 7814219, 8000249, 8186220, 8372155,\n",
      "#        8558093, 8744079, 8930049, 9115923, 9301667, 9487437, 9673601], dtype=int32), 'mused': array([1, 1, 1, 1, 1, 1, 1, 1, 1, 1, 1, 1, 1, 1, 1, 1, 1, 1, 1, 1, 1, 1, 1,\n",
      "#        1, 1, 1, 1, 1, 1, 1, 1, 1, 1, 1, 1, 1, 1, 1, 1, 1, 1, 1, 1, 1, 1, 1,\n",
      "#        1, 1, 1], dtype=int32)})\n",
      "# r3 = sol[0][:,2]\n",
      "# r3"
     ],
     "language": "python",
     "metadata": {},
     "outputs": []
    },
    {
     "cell_type": "code",
     "collapsed": false,
     "input": [
      "len(x)\n",
      "len(y)"
     ],
     "language": "python",
     "metadata": {},
     "outputs": []
    },
    {
     "cell_type": "code",
     "collapsed": false,
     "input": [
      "len(b.dataX)"
     ],
     "language": "python",
     "metadata": {},
     "outputs": []
    },
    {
     "cell_type": "code",
     "collapsed": false,
     "input": [
      "#Changed fine_grid = np.linspace(self.dataX.min(), self.dataX.max(), 100 * points-1) in datafit\n",
      "plot(x,y)"
     ],
     "language": "python",
     "metadata": {},
     "outputs": []
    },
    {
     "cell_type": "code",
     "collapsed": false,
     "input": [
      "print(b.dataX)\n",
      "print(len(b.dataX))\n",
      "print(b.dataY)"
     ],
     "language": "python",
     "metadata": {},
     "outputs": []
    },
    {
     "cell_type": "code",
     "collapsed": false,
     "input": [
      "# len(car_data[:,0])"
     ],
     "language": "python",
     "metadata": {},
     "outputs": []
    },
    {
     "cell_type": "code",
     "collapsed": false,
     "input": [
      "# x"
     ],
     "language": "python",
     "metadata": {},
     "outputs": []
    },
    {
     "cell_type": "code",
     "collapsed": false,
     "input": [
      "# y"
     ],
     "language": "python",
     "metadata": {},
     "outputs": []
    },
    {
     "cell_type": "code",
     "collapsed": false,
     "input": [
      "# len(car_data[:,1])"
     ],
     "language": "python",
     "metadata": {},
     "outputs": []
    },
    {
     "cell_type": "code",
     "collapsed": false,
     "input": [
      "len(x)\n",
      "# plot (x,y)"
     ],
     "language": "python",
     "metadata": {},
     "outputs": []
    },
    {
     "cell_type": "code",
     "collapsed": false,
     "input": [
      "len(y)"
     ],
     "language": "python",
     "metadata": {},
     "outputs": []
    },
    {
     "cell_type": "code",
     "collapsed": false,
     "input": [
      "# param = Parameter()"
     ],
     "language": "python",
     "metadata": {},
     "outputs": []
    },
    {
     "cell_type": "code",
     "collapsed": false,
     "input": [
      "# b.model(fit_params,arange(20))"
     ],
     "language": "python",
     "metadata": {},
     "outputs": []
    },
    {
     "cell_type": "code",
     "collapsed": false,
     "input": [
      "b.dataX"
     ],
     "language": "python",
     "metadata": {},
     "outputs": []
    },
    {
     "cell_type": "code",
     "collapsed": false,
     "input": [
      "# plot (b.dataX,'o')#y)#,'o')"
     ],
     "language": "python",
     "metadata": {},
     "outputs": []
    },
    {
     "cell_type": "code",
     "collapsed": false,
     "input": [
      "plt.figure()\n",
      "plt.plot (b.dataY,'o')\n",
      "plt.plot(y)"
     ],
     "language": "python",
     "metadata": {},
     "outputs": []
    },
    {
     "cell_type": "code",
     "collapsed": false,
     "input": [
      "#This is what is returned by the model()\n",
      "exc = [-0.38492144337229567, -0.38484619066548947, -0.38476848686086546, -0.38469110772540077, -0.3846168891217388, -0.3845486257567538, -0.38448896893211004, -0.38444032669893252, -0.38440477019190572, -0.3843839496942974, -0.38437902364910603, -0.38439060346032766, -0.38441871653649623, -0.38446278945134521, -0.38452165216791506, -0.38459356387414212, -0.38467626008770223, -0.38476701997469759, -0.38486275183872959, -0.38496009434131484, -0.38505553033252227, -0.38514550952274035, -0.38522657581994407, -0.3852954948880466, -0.38534937753684767, -0.38538579430552272, -0.38540287688089064, -0.38539940239607828, -0.38537485713503267, -0.38532947671875611, -0.38526426061980357, -0.38518095973110977, -0.38508203676924707, -0.38497059987983462, -0.38485031109278001, -0.38472527202951107, -0.38459989038483067, -0.38447873119564691, -0.38436635765563321, -0.38426716685152368, -0.38418522606383165, -0.38412411551050646, -0.38408678318158912, -0.38407541735352096, -0.38409134187567179, -0.3841349387302499, -0.38420560139071203, -0.38430172172113874, -0.38442071203869427, -0.3845590627424989, -0.38471243476769967, -0.38487578467366923, -0.38504351920864077, -0.38520967501902037, -0.3853681180284278, -0.38551275623450659, -0.38563775892834051, -0.38573777488310096, -0.3858081419615027, -0.38584508042397697, -0.38584586260691267, -0.38580895213956423, -0.38573410673833958, -0.38562243964888265, -0.38547643606003873, -0.38529992136492397, -0.38509798255198741, -0.38487684084044943, -0.38464368003669536, -0.38440643392790935, -0.38417353849302938, -0.38395365599357434, -0.38375537933462589, -0.38358692585362253, -0.38345583063484229, -0.38336864979639046, -0.38333068428290151, -0.38334573445426096, -0.38341589516608454, -0.38354139998480064, -0.38372052207679208, -0.38394953763327405, -0.3842227558986861, -0.38453261794232491, -0.38486986346962554, -0.38522376473036524, -0.3855824208730792, -0.38593310744389919, -0.38626267140351639, -0.38655796111355784, -0.38680627925824906, -0.3869958439167977, -0.38711623682895363, -0.38715884862630956, -0.38711727000826868, -0.38698764008537356, -0.38676892888157455, -0.38646314293135925, -0.38607544361350549, -0.38561416956550926, -0.38509075775202667, -0.38451956012955618, -0.38391755617571355, -0.38330396440971359, -0.38269975963988062, -0.38212710540714184, -0.38160871429568094, -0.38116715133155843, -0.38082409819843843, -0.3805995978224247, -0.3805113003236949, -0.38057373241264192, -0.38079761210514185, -0.3811892310607789, -0.3817499249953592, -0.38247565170684461, -0.3833566936714814, -0.38437749953041306, -0.38551667558232477, -0.3867471344945646, -0.38803640479718199, -0.3893470999419108, -0.39063754211411605, -0.39186253092528733, -0.39297424334093883, -0.39392324704367665, -0.39465960588046101, -0.39513405296248749, -0.39529920414771175, -0.39511078313984765, -0.39452882947156132, -0.39351884890892064, -0.39205290041099494, -0.3901105601502049, -0.38767974787914555, -0.38475741002439312, -0.3813500023641872, -0.3774737831349701, -0.37315489277342645, -0.36842921479177931, -0.36334201491858503, -0.35794736183435744, -0.35230733764888666, -0.3464910519185368, -0.3405734783155121, -0.33463413632944705, -0.32875564606506463, -0.32302218660521148, -0.3175178924167632, -0.31232522206929236, -0.30752333751702254, -0.30318652879262786, -0.29938272206896577, -0.29617211281702605, -0.29360586524187837, -0.2917252514710334, -0.29056058835820048, -0.29013072072114993, -0.29044260821286189, -0.29149120953847518, -0.29325953013565448, -0.29571904331229854, -0.29883023077524906, -0.30254337376750395, -0.30679965688992783, -0.31153229724326831, -0.31666792108596603, -0.32212803897371284, -0.32783060931230967, -0.33369165510716942, -0.33962689601694035, -0.34555335838050438, -0.35139092928158516, -0.35706381912373303, -0.36250190221208256, -0.36764190639275318, -0.37242842855933384, -0.37681475666173592, -0.3807634830189498, -0.3842469004399065, -0.38724717651589707, -0.38975630843224818, -0.39177586282187776, -0.39331652368849862, -0.39439743697591678, -0.39504540813313432, -0.3952939581762332, -0.39518225193506362, -0.39475395845015365, -0.39405604878097977, -0.39313757187641385, -0.39204843722281862, -0.39083823344522367, -0.3895551103743875, -0.38824474950878313, -0.3869494447280824, -0.38570731168247252, -0.38455164012089815, -0.38351039978873763, -0.38260590527786803, -0.38185464185280754, -0.3812672493203379, -0.38084865728870398, -0.38059836134570513, -0.38051082626191529, -0.38057599965775674, -0.38077991702410019, -0.38110537768784447, -0.38153266967310978, -0.38204032150209327, -0.38260585882590609, -0.38320654468552412, -0.38382008361115688, -0.38442527143429689, -0.38500257526641196, -0.38553463049642078, -0.38600664477548419, -0.38640670190041776, -0.38672596180600416, -0.38695875602288909, -0.38710258108908746, -0.38715799498540276, -0.38712842481008475, -0.38701989567755141, -0.38684069161781331, -0.3866009723653937, -0.38631233180371444, -0.38598735226331821, -0.38563914396337934, -0.38528088920293468, -0.38492540817653448, -0.38458475759358218, -0.38426987322076167, -0.38399026646394369, -0.38375378009632327, -0.38356641081104048, -0.38343219945201668, -0.38335319013379859, -0.38332945642569305, -0.38335919089029363, -0.38343885224889634, -0.38356336304540978, -0.38372634924742177, -0.38392041222613504, -0.38413742290809011, -0.38436882758823165, -0.38460595484717175, -0.38484031357033949, -0.38506387258373365, -0.38526931342109394, -0.38545024894783281, -0.38560140185202396, -0.38571873924411337, -0.38579955912475311, -0.3858425296598848, -0.38584768021817756, -0.38581634691568195, -0.38575107613926585, -0.38565549072558181, -0.38553412469310444, -0.38539223320692312, -0.3852355850915114, -0.38507024549013935, -0.38490235627764091, -0.38473792176700566, -0.38458260674952427, -0.38444155327482854, -0.38431922181314027, -0.38421926113065119, -0.38414441050313763, -0.38409643646444175, -0.38407610507301321, -0.38408318952926868, -0.38411651155671622, -0.38417401418836888, -0.38425286242604284, -0.38434956743313914, -0.38446012920807432, -0.38458019231917073, -0.38470520897841437, -0.38483060360018684, -0.38495193316182613, -0.38506503786921975, -0.38516617748943116, -0.38525214892278326, -0.38532038155931525, -0.38536900776688371, -0.38539690684188543, -0.3854037218069753, -0.38538984909037127, -0.38535640230253471, -0.38530515209718391, -0.3852384449653718, -0.38515910426356764, -0.38507031743053294, -0.38497551372451239, -0.38487823703974844, -0.38478201818556995, -0.38469025119836109, -0.38460607784157635, -0.38453228422247504, -0.38447121250152949, -0.3844246905726586, -0.38439398164602928, -0.38437975504185001, -0.38438207844707983, -0.38440043148384911, -0.38443373958486576, -0.38448042643296582, -0.38453848259004419, -0.38460554760085569, -0.38467900235654123, -0.38475606815269242, -0.38483390881692664, -0.38490973239087012]"
     ],
     "language": "python",
     "metadata": {},
     "outputs": []
    },
    {
     "cell_type": "code",
     "collapsed": false,
     "input": [
      "plot(exc)"
     ],
     "language": "python",
     "metadata": {},
     "outputs": []
    },
    {
     "cell_type": "code",
     "collapsed": false,
     "input": [
      "plot(exc)\n",
      "plt.plot(car_data[:,0],car_data[:,1],'o')"
     ],
     "language": "python",
     "metadata": {},
     "outputs": []
    },
    {
     "cell_type": "code",
     "collapsed": false,
     "input": [
      "b.data"
     ],
     "language": "python",
     "metadata": {},
     "outputs": []
    },
    {
     "cell_type": "code",
     "collapsed": false,
     "input": [
      "# Returned by model() , Normalized P_excitation\n",
      "exc2= [0.30753927831385219, 0.30757690466725529, 0.3076157565695673, 0.30765444613729964, 0.30769155543913063, 0.30772568712162307, 0.30775551553394498, 0.30777983665053377, 0.30779761490404711, 0.30780802515285133, 0.30781048817544698, 0.30780469826983614, 0.30779064173175186, 0.30776860527432737, 0.30773917391604244, 0.30770321806292894, 0.30766186995614886, 0.30761649001265123, 0.30756862408063523, 0.30751995282934258, 0.30747223483373887, 0.30742724523862985, 0.30738671209002799, 0.3073522525559767, 0.30732531123157614, 0.30730710284723861, 0.30729856155955471, 0.30730029880196086, 0.30731257143248369, 0.30733526164062197, 0.30736786969009822, 0.30740952013444511, 0.30745898161537644, 0.30751470006008269, 0.30757484445361, 0.30763736398524444, 0.30770005480758467, 0.30776063440217655, 0.3078168211721834, 0.30786641657423819, 0.30790738696808417, 0.3079379422447468, 0.30795660840920547, 0.30796229132323949, 0.30795432906216413, 0.30793253063487502, 0.30789719930464399, 0.30784913913943063, 0.30778964398065289, 0.30772046862875058, 0.30764378261615016, 0.30756210766316538, 0.30747824039567961, 0.30739516249048981, 0.30731594098578607, 0.30724362188274668, 0.30718112053582974, 0.30713111255844949, 0.30709592901924865, 0.30707745978801149, 0.30707706869654366, 0.30709552393021788, 0.30713294663083024, 0.30718878017555867, 0.30726178196998066, 0.30735003931753802, 0.30745100872400632, 0.30756157957977526, 0.30767815998165232, 0.3077967830360453, 0.30791323075348531, 0.30802317200321283, 0.30812231033268705, 0.30820653707318874, 0.30827208468257883, 0.3083156751018048, 0.30833465785854924, 0.30832713277286949, 0.30829205241695773, 0.30822930000759968, 0.30813973896160396, 0.308025231183363, 0.30788862205065692, 0.30773369102883752, 0.30756506826518726, 0.30738811763481738, 0.30720878956346043, 0.3070334462780504, 0.30686866429824178, 0.30672101944322105, 0.30659686037087547, 0.30650207804160112, 0.30644188158552321, 0.30642057568684522, 0.30644136499586566, 0.30650617995731322, 0.30661553555921273, 0.3067684285343204, 0.30696227819324728, 0.30719291521724534, 0.30745462112398669, 0.30774021993522194, 0.30804122191214323, 0.3083480177951432, 0.30865012018005966, 0.30893644729642911, 0.3091956428521595, 0.30941642433422079, 0.30958795090078078, 0.30970020108878765, 0.30974434983815258, 0.30971313379367904, 0.30960119394742908, 0.30940538446961052, 0.3091250375023204, 0.30876217414657769, 0.3083216531642593, 0.3078112502347935, 0.30724166220883764, 0.30662643275271773, 0.30598179760140898, 0.30532645002904457, 0.30468122894294197, 0.30406873453735633, 0.30351287832953056, 0.30303837647816168, 0.3026701970597695, 0.30243297351875625, 0.30235039792614415, 0.30244460843007615, 0.30273558526421934, 0.30324057554553968, 0.30397354979450253, 0.30494471992489758, 0.3061601260604272, 0.30762129498780344, 0.30932499881790643, 0.31126310843251492, 0.31342255361328675, 0.31578539260411032, 0.31832899254070746, 0.32102631908282131, 0.32384633117555667, 0.3267544740407316, 0.32971326084224395, 0.33268293183527647, 0.33562217696746766, 0.33848890669739429, 0.3412410537916184, 0.34383738896535382, 0.34623833124148873, 0.34840673560368607, 0.35030863896551712, 0.35191394359148698, 0.35319706737906081, 0.35413737426448333, 0.35471970582089973, 0.35493463963942506, 0.35477869589356903, 0.35425439523076241, 0.35337023493217279, 0.35214047834385076, 0.35058488461237547, 0.34872831311624802, 0.34660017155503609, 0.34423385137836582, 0.34166603945701701, 0.33893598051314355, 0.33608469534384516, 0.33315417244641532, 0.3301865519915298, 0.32722332080974781, 0.32430453535920745, 0.32146809043813351, 0.31874904889395872, 0.31617904680362341, 0.31378578572033311, 0.31159262166913204, 0.3096182584905251, 0.30787654978004675, 0.30637641174205144, 0.30512184578387591, 0.30411206858906115, 0.30334173815575072, 0.30280128151204161, 0.30247729593343287, 0.30235302091188343, 0.30240887403246819, 0.3026230207749232, 0.30297197560951011, 0.30343121406179308, 0.30397578138859072, 0.30458088327738819, 0.30522244481280625, 0.30587762524560846, 0.30652527763595883, 0.30714634415876374, 0.30772417993955092, 0.30824480010563116, 0.30869704736106596, 0.30907267907359626, 0.30936637533983102, 0.30957567135564801, 0.30970081932714744, 0.30974458686904238, 0.30971200017112166, 0.30961004148794991, 0.30944731115607776, 0.30923366516344508, 0.30897983924895334, 0.30869707058704698, 0.30839672765723791, 0.30808995819442153, 0.30778736428285158, 0.30749871236679405, 0.30723268475178961, 0.30699667761225791, 0.30679664904979109, 0.30663701909699792, 0.30652062198855545, 0.30644870945545627, 0.30642100250729865, 0.3064357875949576, 0.30649005216122427, 0.30657965419109334, 0.30669951381730315, 0.30684383409814275, 0.30700632386834092, 0.30718042801831036, 0.30735955539853266, 0.30753729591173273, 0.30770762120320894, 0.30786506338961916, 0.30800486676802818, 0.30812310995183834, 0.30821679459447976, 0.30828390027399166, 0.30832340493310073, 0.30833527178715348, 0.30832040455485321, 0.30828057387555186, 0.30821831847729508, 0.30813682537628911, 0.30803979388693248, 0.30793128854595497, 0.30781558620588417, 0.30769702257641413, 0.30757984321483023, 0.30746806370813318, 0.30736534328945303, 0.30727487552608357, 0.30719929907398802, 0.30714063037794331, 0.30710022043762342, 0.30707873517005757, 0.30707615989091119, 0.30709182654215905, 0.30712446193036708, 0.3071722546372091, 0.30723293765344778, 0.30730388339653847, 0.30738220745424427, 0.30746487725493032, 0.30754882186117954, 0.30763103911649714, 0.30770869662523787, 0.30777922336258573, 0.30784038909342987, 0.3078903694346744, 0.30792779474843118, 0.30795178176777915, 0.30796194746349337, 0.30795840523536566, 0.30794174422164189, 0.30791299290581553, 0.30787356878697858, 0.3078252162834304, 0.30776993539596287, 0.30770990384041463, 0.30764739551079279, 0.30758469819990658, 0.30752403341908696, 0.30746748106539012, 0.30741691125528442, 0.30737392553860837, 0.30733980922034237, 0.30731549611655817, 0.30730154657905728, 0.30729813909651238, 0.30730507545481434, 0.30732179884873267, 0.30734742395140802, 0.30738077751731407, 0.30742044786821621, 0.3074648412847335, 0.30751224313774383, 0.30756088148012578, 0.30760899090721505, 0.30765487440081946, 0.30769696107921185, 0.30773385788876251, 0.30776439374923525, 0.3077876547136707, 0.30780300917698533, 0.30781012247907502, 0.30780896077646008, 0.30779978425807542, 0.30778313020756709, 0.30775978678351712, 0.3077307587049779, 0.30769722619957218, 0.30766049882172941, 0.30762196592365376, 0.30758304559153671, 0.30754513380456494]"
     ],
     "language": "python",
     "metadata": {},
     "outputs": []
    },
    {
     "cell_type": "code",
     "collapsed": false,
     "input": [
      "plot(exc2)\n",
      "plt.plot(car_data[:,0],car_data[:,1],'o')"
     ],
     "language": "python",
     "metadata": {},
     "outputs": []
    },
    {
     "cell_type": "code",
     "collapsed": false,
     "input": [],
     "language": "python",
     "metadata": {},
     "outputs": []
    },
    {
     "cell_type": "code",
     "collapsed": false,
     "input": [],
     "language": "python",
     "metadata": {},
     "outputs": []
    }
   ],
   "metadata": {}
  }
 ]
}