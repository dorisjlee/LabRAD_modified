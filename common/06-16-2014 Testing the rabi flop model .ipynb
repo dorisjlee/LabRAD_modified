{
 "metadata": {
  "name": ""
 },
 "nbformat": 3,
 "nbformat_minor": 0,
 "worksheets": [
  {
   "cells": [
    {
     "cell_type": "code",
     "collapsed": false,
     "input": [
      "import random\n",
      "from __future__ import division\n",
      "from abstractdevices.fitter.get_data import *\n",
      "# Don't know where fit_heating and fitdata is?\n",
      "# from fit_heating import *\n",
      "# from fitdata import GaussianFit\n",
      "# This is the unmodified RabiFlop file (as on Git), testing the modified rabiflop\n",
      "# from common.abstractdevices.fitter.rabiflop import RabiFlop\n",
      "from numpy import *\n",
      "from abstractdevices.fitter.rabiflop_modified_test import RabiFlop\n",
      "from abstractdevices.fitter.rabi_flop_fitter_modified_test  import rabi_flop_time_evolution"
     ],
     "language": "python",
     "metadata": {},
     "outputs": [],
     "prompt_number": 176
    },
    {
     "cell_type": "code",
     "collapsed": false,
     "input": [
      "x = random.random()"
     ],
     "language": "python",
     "metadata": {},
     "outputs": [],
     "prompt_number": 177
    },
    {
     "cell_type": "code",
     "collapsed": false,
     "input": [
      "# model()"
     ],
     "language": "python",
     "metadata": {},
     "outputs": [],
     "prompt_number": 178
    },
    {
     "cell_type": "code",
     "collapsed": false,
     "input": [
      "def thermal_tester():\n",
      "    dataobj = ReadData('2014May27',experiment = 'RabiFlopping') \n",
      "    car_data3 = dataobj.get_data('1525_11')\n",
      "    rabi3 = RabiFlop(car_data3) #default set as 'coherent'\n",
      "    rabi3.setData(car_data3)\n",
      "    print(rabi3.guess_f_rabi())\n",
      "    params = lmfit.Parameters()\n",
      "    params.add('eta',value =0.01)\n",
      "    params.add('nbar', value = 3.0 ) #5.0\n",
      "    params.add('f_rabi', value = rabi3.guess_f_rabi())\n",
      "    params.add('delta', value = 0.0)\n",
      "    params.add('delta_fluctuations', value = 0.0)\n",
      "    params.add('trap_freq', value =2.0)  # 1.0\n",
      "    params.add('sideband', value = 0.0)\n",
      "    params.add('nmax',value = 800 ) #1000\n",
      "    params.add('angle',value = np.pi/4)\n",
      "    params.add('rabi_type',value='thermal')\n",
      "    rabi3.setUserParameters(params)\n",
      "    #rabi3.model(params['nbar'].value,0.05,params,np.arange(800))\n",
      "    rabi3.model(params,np.arange(800))\n",
      "\n",
      "thermal_tester()"
     ],
     "language": "python",
     "metadata": {},
     "outputs": []
    },
    {
     "cell_type": "code",
     "collapsed": false,
     "input": [
      "#Creating testing data \n",
      "data = np.array(10)\n",
      "data"
     ],
     "language": "python",
     "metadata": {},
     "outputs": [
      {
       "metadata": {},
       "output_type": "pyout",
       "prompt_number": 21,
       "text": [
        "array(10)"
       ]
      }
     ],
     "prompt_number": 21
    },
    {
     "cell_type": "code",
     "collapsed": false,
     "input": [
      "x = np.array([[ 1., 2.], [ 0., 0.], [ 1., 3.]])\n",
      "x"
     ],
     "language": "python",
     "metadata": {},
     "outputs": [
      {
       "metadata": {},
       "output_type": "pyout",
       "prompt_number": 54,
       "text": [
        "array([[ 1.,  2.],\n",
        "       [ 0.,  0.],\n",
        "       [ 1.,  3.]])"
       ]
      }
     ],
     "prompt_number": 54
    },
    {
     "cell_type": "code",
     "collapsed": false,
     "input": [
      "#Randomly generate error\n",
      "error = random.random()*5\n",
      "print error"
     ],
     "language": "python",
     "metadata": {},
     "outputs": [
      {
       "output_type": "stream",
       "stream": "stdout",
       "text": [
        "0.356882872147\n"
       ]
      }
     ],
     "prompt_number": 55
    },
    {
     "cell_type": "code",
     "collapsed": false,
     "input": [
      "data=[]\n",
      "for i in linspace(0,100,50):\n",
      "    tmp=[]\n",
      "    error = random.random()*5\n",
      "    tmp.append(int(i)) #time for rabi flop\n",
      "    #tmp.append()excitation probability\n",
      "    tmp.append(error)#error\n",
      "    data.append(tmp) \n",
      "data\n",
      "array(data)"
     ],
     "language": "python",
     "metadata": {},
     "outputs": [
      {
       "metadata": {},
       "output_type": "pyout",
       "prompt_number": 57,
       "text": [
        "array([[  0.00000000e+00,   2.98022790e+00],\n",
        "       [  2.00000000e+00,   8.15683828e-01],\n",
        "       [  4.00000000e+00,   2.52756255e-02],\n",
        "       [  6.00000000e+00,   2.99008269e+00],\n",
        "       [  8.00000000e+00,   5.03823122e-01],\n",
        "       [  1.00000000e+01,   4.25399263e+00],\n",
        "       [  1.20000000e+01,   2.96350425e+00],\n",
        "       [  1.40000000e+01,   1.83410702e+00],\n",
        "       [  1.60000000e+01,   2.38711696e+00],\n",
        "       [  1.80000000e+01,   4.29826129e-01],\n",
        "       [  2.00000000e+01,   4.14803841e+00],\n",
        "       [  2.20000000e+01,   4.63923010e+00],\n",
        "       [  2.40000000e+01,   1.24455590e+00],\n",
        "       [  2.60000000e+01,   3.14335406e+00],\n",
        "       [  2.80000000e+01,   2.02521497e+00],\n",
        "       [  3.00000000e+01,   1.88302028e+00],\n",
        "       [  3.20000000e+01,   5.02242615e-01],\n",
        "       [  3.40000000e+01,   2.21298625e+00],\n",
        "       [  3.60000000e+01,   2.43071623e+00],\n",
        "       [  3.80000000e+01,   1.52291113e+00],\n",
        "       [  4.00000000e+01,   2.55809693e+00],\n",
        "       [  4.20000000e+01,   4.68776225e+00],\n",
        "       [  4.40000000e+01,   7.81342740e-01],\n",
        "       [  4.60000000e+01,   2.42626753e-01],\n",
        "       [  4.80000000e+01,   4.65450729e+00],\n",
        "       [  5.10000000e+01,   3.19090312e+00],\n",
        "       [  5.30000000e+01,   3.65588883e+00],\n",
        "       [  5.50000000e+01,   6.98277773e-01],\n",
        "       [  5.70000000e+01,   1.06988436e+00],\n",
        "       [  5.90000000e+01,   9.48368084e-01],\n",
        "       [  6.10000000e+01,   1.69083298e+00],\n",
        "       [  6.30000000e+01,   2.50811711e+00],\n",
        "       [  6.50000000e+01,   1.48414796e+00],\n",
        "       [  6.70000000e+01,   1.93066930e+00],\n",
        "       [  6.90000000e+01,   2.38166283e+00],\n",
        "       [  7.10000000e+01,   4.24785076e+00],\n",
        "       [  7.30000000e+01,   4.26673546e+00],\n",
        "       [  7.50000000e+01,   4.73461278e+00],\n",
        "       [  7.70000000e+01,   4.58201120e-01],\n",
        "       [  7.90000000e+01,   1.35100063e+00],\n",
        "       [  8.10000000e+01,   3.26398788e+00],\n",
        "       [  8.30000000e+01,   3.47303050e+00],\n",
        "       [  8.50000000e+01,   2.88119554e+00],\n",
        "       [  8.70000000e+01,   6.91953434e-01],\n",
        "       [  8.90000000e+01,   2.75117218e+00],\n",
        "       [  9.10000000e+01,   1.66179657e+00],\n",
        "       [  9.30000000e+01,   3.77991829e+00],\n",
        "       [  9.50000000e+01,   2.35526971e+00],\n",
        "       [  9.70000000e+01,   2.80670802e+00],\n",
        "       [  1.00000000e+02,   4.29018438e-01]])"
       ]
      }
     ],
     "prompt_number": 57
    },
    {
     "cell_type": "code",
     "collapsed": false,
     "input": [
      "#np.array([[1, 2, 3], [4, 5, 6]])"
     ],
     "language": "python",
     "metadata": {},
     "outputs": [],
     "prompt_number": 59
    },
    {
     "cell_type": "code",
     "collapsed": false,
     "input": [
      "rabi = RabiFlop("
     ],
     "language": "python",
     "metadata": {},
     "outputs": [],
     "prompt_number": 60
    },
    {
     "cell_type": "markdown",
     "metadata": {},
     "source": [
      "We remove the rabi model out from the rabiflop object class because in order to use model we need to instantiate a RabiFlop object which requires a \"raw\" (data array) as input, but we want our excitation probability to be modelled using \"model\". So it must be a separate method."
     ]
    },
    {
     "cell_type": "code",
     "collapsed": false,
     "input": [
      "def model (params,x):\n",
      "    # Because we are inheriting from datafit.py\n",
      "    # model only takes 2 parameter  model(params,x)\n",
      "    print 'the length of x is ' + str(len(x))\n",
      "    #eta=0.05\n",
      "    #eta = params['eta'].value\n",
      "    f_rabi=params['f_rabi'].value\n",
      "    nbar = params['nbar'].value \n",
      "    #nbar =5\n",
      "    delta = params['delta'].value\n",
      "    # delta_fluct = params['delta_fluctuations'].value\n",
      "    trap_freq = params['trap_freq'].value\n",
      "    sideband = params['sideband'].value\n",
      "    nmax = params['nmax'].value\n",
      "    angle= params['angle'].value\n",
      "    rabi_type = params['rabi_type'].value\n",
      "    eta = params['eta'].value\n",
      "    flop_te  = rabi_flop_time_evolution(sideband,eta,nmax)\n",
      "    # (self, sideband_order, eta, nmax = 1000):\n",
      "    # flop = te.time_evolution(trap_frequency = U.WithUnit(trap_freq, 'MHz'), projection = projection, sideband_order = sideband, nmax = nmax)\n",
      "    # x is the (excitation)time in microseconds\n",
      "    print \"f_rabi guess: \" + str(f_rabi)\n",
      "    #print \"T_2pi: \" + str(1./self.guess_f_rabi())\n",
      "    if (params['rabi_type']=='coherent' ):\n",
      "        #set alpha =100\n",
      "        return flop_te.compute_evolution_coherent(nbar, 3, delta, 1./f_rabi, x*10e-6)\n",
      "    elif (params['rabi_type']== 'thermal'):\n",
      "        return flop_te.compute_evolution_thermal(nbar, delta, 1./f_rabi , x*10e-6)\n",
      "        #1/(x*2e-6)\n",
      "    # Can add additional types here later .\n",
      "    else:\n",
      "        raise ValueError('Rabi Flop type must be either coherent or thermal')\n",
      "    #model = flop.state_evolution_fluc(x*10**-6, nbar, f_rabi, delta, delta_fluct, n_fluc = 5.0 )\n",
      "    # (t,nbar,f_Rabi,delta_center,delta_variance,n_fluc=5.0)\n",
      "    #return model"
     ],
     "language": "python",
     "metadata": {},
     "outputs": [],
     "prompt_number": 86
    },
    {
     "cell_type": "code",
     "collapsed": false,
     "input": [
      "import lmfit"
     ],
     "language": "python",
     "metadata": {},
     "outputs": [],
     "prompt_number": 87
    },
    {
     "cell_type": "code",
     "collapsed": false,
     "input": [
      "params = lmfit.Parameters()"
     ],
     "language": "python",
     "metadata": {},
     "outputs": [],
     "prompt_number": 88
    },
    {
     "cell_type": "code",
     "collapsed": false,
     "input": [
      "params.add('eta',value=0.01)\n",
      "params.add('nbar', value = 5.0 )\n",
      "# params.add('f_rabi', value = rabi.guess_f_rabi())\n",
      "params.add('f_rabi',value=5e3)\n",
      "params.add('delta', value = 0.0)\n",
      "params.add('delta_fluctuations', value = 0.0)\n",
      "params.add('trap_freq', value =1.0)\n",
      "params.add('sideband',value = 0.0)\n",
      "params.add('nmax',value = 1000 )\n",
      "params.add('angle',value = np.pi/4)\n",
      "params.add('rabi_type',value='thermal')"
     ],
     "language": "python",
     "metadata": {},
     "outputs": [],
     "prompt_number": 89
    },
    {
     "cell_type": "code",
     "collapsed": false,
     "input": [
      "params"
     ],
     "language": "python",
     "metadata": {},
     "outputs": [
      {
       "metadata": {},
       "output_type": "pyout",
       "prompt_number": 90,
       "text": [
        "Parameters([('eta', <Parameter 'eta', 0.01, bounds=[None:None]>), ('nbar', <Parameter 'nbar', 5.0, bounds=[None:None]>), ('f_rabi', <Parameter 'f_rabi', 5000.0, bounds=[None:None]>), ('delta', <Parameter 'delta', 0.0, bounds=[None:None]>), ('delta_fluctuations', <Parameter 'delta_fluctuations', 0.0, bounds=[None:None]>), ('trap_freq', <Parameter 'trap_freq', 1.0, bounds=[None:None]>), ('sideband', <Parameter 'sideband', 0.0, bounds=[None:None]>), ('nmax', <Parameter 'nmax', 1000, bounds=[None:None]>), ('angle', <Parameter 'angle', 0.7853981633974483, bounds=[None:None]>), ('rabi_type', <Parameter 'rabi_type', 'thermal', bounds=[None:None]>)])"
       ]
      }
     ],
     "prompt_number": 90
    },
    {
     "cell_type": "code",
     "collapsed": false,
     "input": [
      "model(params,linspace(0,100,50))"
     ],
     "language": "python",
     "metadata": {},
     "outputs": [
      {
       "output_type": "stream",
       "stream": "stdout",
       "text": [
        "the length of x is 50\n",
        "f_rabi guess: 5000.0\n",
        "Compute Evolution Thermal\n"
       ]
      },
      {
       "metadata": {},
       "output_type": "pyout",
       "prompt_number": 94,
       "text": [
        "array([  0.00000000e+00,   9.91878125e-02,   3.57398317e-01,\n",
        "         6.72186077e-01,   9.18658588e-01,   9.99027620e-01,\n",
        "         8.81406842e-01,   6.12462708e-01,   2.98899355e-01,\n",
        "         6.51234751e-02,   3.88572834e-03,   1.39481850e-01,\n",
        "         4.18113439e-01,   7.29232754e-01,   9.49402834e-01,\n",
        "         9.91271322e-01,   8.38227498e-01,   5.50992355e-01,\n",
        "         2.43527175e-01,   3.78190508e-02,   1.54823377e-02,\n",
        "         1.85378259e-01,   4.80099556e-01,   7.82714761e-01,\n",
        "         9.73161127e-01,   9.75879640e-01,   7.89792860e-01,\n",
        "         4.88731950e-01,   1.92143639e-01,   1.76993611e-02,\n",
        "         3.46090478e-02,   2.36162391e-01,   5.42391711e-01,\n",
        "         8.31799718e-01,   9.89563936e-01,   9.53092514e-01,\n",
        "         7.36857131e-01,   4.26650702e-01,   1.45548397e-01,\n",
        "         5.07720767e-03,   6.09676995e-02,   2.91043434e-01,\n",
        "         6.04020224e-01,   8.75723828e-01,   9.98356411e-01,\n",
        "         9.23265157e-01,   6.80244641e-01,   3.65714975e-01,\n",
        "         1.04466408e-01,   1.48494499e-04])"
       ]
      }
     ],
     "prompt_number": 94
    },
    {
     "cell_type": "code",
     "collapsed": false,
     "input": [
      "len(model(params,linspace(0,100,50)))"
     ],
     "language": "python",
     "metadata": {},
     "outputs": [
      {
       "output_type": "stream",
       "stream": "stdout",
       "text": [
        "the length of x is 50\n",
        "f_rabi guess: 5000.0\n",
        "Compute Evolution Thermal\n"
       ]
      },
      {
       "metadata": {},
       "output_type": "pyout",
       "prompt_number": 95,
       "text": [
        "50"
       ]
      }
     ],
     "prompt_number": 95
    },
    {
     "cell_type": "code",
     "collapsed": false,
     "input": [
      "import  matplotlib.pyplot as plt\n",
      "%matplotlib inline"
     ],
     "language": "python",
     "metadata": {},
     "outputs": [],
     "prompt_number": 97
    },
    {
     "cell_type": "code",
     "collapsed": false,
     "input": [
      "data=model(params,linspace(0,100,50))"
     ],
     "language": "python",
     "metadata": {},
     "outputs": [
      {
       "output_type": "stream",
       "stream": "stdout",
       "text": [
        "the length of x is 50\n",
        "f_rabi guess: 5000.0\n",
        "Compute Evolution Thermal\n"
       ]
      }
     ],
     "prompt_number": 156
    },
    {
     "cell_type": "code",
     "collapsed": false,
     "input": [
      "plt.plot(linspace(0,100,50),data)#,'o')"
     ],
     "language": "python",
     "metadata": {},
     "outputs": [
      {
       "metadata": {},
       "output_type": "pyout",
       "prompt_number": 157,
       "text": [
        "[<matplotlib.lines.Line2D at 0x7f0cb30f3450>]"
       ]
      },
      {
       "metadata": {},
       "output_type": "display_data",
       "png": "[encoded data removed]",
       "text": [
        "<matplotlib.figure.Figure at 0x7f0cd5527910>"
       ]
      }
     ],
     "prompt_number": 157
    },
    {
     "cell_type": "markdown",
     "metadata": {},
     "source": [
      "Adding in noise(random number)"
     ]
    },
    {
     "cell_type": "code",
     "collapsed": false,
     "input": [
      "print random.uniform(-5., 5)"
     ],
     "language": "python",
     "metadata": {},
     "outputs": [
      {
       "output_type": "stream",
       "stream": "stdout",
       "text": [
        "3.31430841575\n"
       ]
      }
     ],
     "prompt_number": 158
    },
    {
     "cell_type": "code",
     "collapsed": false,
     "input": [
      "for i in data:\n",
      "    error = random.uniform(-5., 5) #need plus/minus \n",
      "    signal_with_noise=error+i"
     ],
     "language": "python",
     "metadata": {},
     "outputs": [],
     "prompt_number": 159
    },
    {
     "cell_type": "markdown",
     "metadata": {},
     "source": [
      "It seems like noise level of 5 is too large "
     ]
    },
    {
     "cell_type": "code",
     "collapsed": false,
     "input": [
      "signal_with_noise = [i+random.uniform(-0.1,0.1) for i in data]"
     ],
     "language": "python",
     "metadata": {},
     "outputs": [],
     "prompt_number": 160
    },
    {
     "cell_type": "code",
     "collapsed": false,
     "input": [
      "# signal_with_noise"
     ],
     "language": "python",
     "metadata": {},
     "outputs": [],
     "prompt_number": 161
    },
    {
     "cell_type": "code",
     "collapsed": false,
     "input": [
      "plt.plot(linspace(0,100,50),signal_with_noise,'o')\n",
      "plt.plot(linspace(0,100,50),data)#,'o')"
     ],
     "language": "python",
     "metadata": {},
     "outputs": [
      {
       "metadata": {},
       "output_type": "pyout",
       "prompt_number": 162,
       "text": [
        "[<matplotlib.lines.Line2D at 0x7f0cb3139550>]"
       ]
      },
      {
       "metadata": {},
       "output_type": "display_data",
       "png": "[encoded data removed]",
       "text": [
        "<matplotlib.figure.Figure at 0x7f0cb3139590>"
       ]
      }
     ],
     "prompt_number": 162
    },
    {
     "cell_type": "code",
     "collapsed": false,
     "input": [
      "#0th sideband is the carrier\n",
      "te=rabi_flop_time_evolution(0,params['eta'].value)"
     ],
     "language": "python",
     "metadata": {},
     "outputs": [],
     "prompt_number": 163
    },
    {
     "cell_type": "code",
     "collapsed": false,
     "input": [
      "t = linspace(0,100,50)\n",
      "thermal_te = te.compute_evolution_thermal(params['nbar'].value, params['delta'].value, 15, t)"
     ],
     "language": "python",
     "metadata": {},
     "outputs": [
      {
       "output_type": "stream",
       "stream": "stdout",
       "text": [
        "Compute Evolution Thermal\n"
       ]
      }
     ],
     "prompt_number": 164
    },
    {
     "cell_type": "code",
     "collapsed": false,
     "input": [
      "thermal_te"
     ],
     "language": "python",
     "metadata": {},
     "outputs": [
      {
       "metadata": {},
       "output_type": "pyout",
       "prompt_number": 165,
       "text": [
        "array([  0.00000000e+00,   1.71658851e-01,   5.68768236e-01,\n",
        "         9.18658588e-01,   9.81082859e-01,   7.13178785e-01,\n",
        "         2.98899355e-01,   2.27036562e-02,   7.42368734e-02,\n",
        "         4.18113439e-01,   8.18214753e-01,   9.99817272e-01,\n",
        "         8.38227498e-01,   4.44400201e-01,   8.87518282e-02,\n",
        "         1.54823377e-02,   2.74899234e-01,   6.88875937e-01,\n",
        "         9.73161127e-01,   9.32556151e-01,   5.94944356e-01,\n",
        "         1.92143639e-01,   7.30752282e-04,   1.52134038e-01,\n",
        "         5.42391711e-01,   9.03537784e-01,   9.87598051e-01,\n",
        "         7.36857131e-01,   3.23485616e-01,   3.13194719e-02,\n",
        "         6.09676995e-02,   3.92068741e-01,   7.97274227e-01,\n",
        "         9.98356411e-01,   8.57248920e-01,   4.70845534e-01,\n",
        "         1.04466408e-01,   9.67836258e-03,   2.51561427e-01,\n",
        "         6.64025826e-01,   9.63858168e-01,   9.45186493e-01,\n",
        "         6.20836971e-01,   2.13523198e-01,   2.92043643e-03,\n",
        "         1.33631020e-01,   5.15898581e-01,   8.87242023e-01,\n",
        "         9.92686346e-01,   7.59835942e-01])"
       ]
      }
     ],
     "prompt_number": 165
    },
    {
     "cell_type": "markdown",
     "metadata": {},
     "source": [
      "Above is a more lower level implementation. (fit <--- model <--compute_evolution)"
     ]
    },
    {
     "cell_type": "code",
     "collapsed": false,
     "input": [
      "params"
     ],
     "language": "python",
     "metadata": {},
     "outputs": [
      {
       "metadata": {},
       "output_type": "pyout",
       "prompt_number": 166,
       "text": [
        "Parameters([('eta', <Parameter 'eta', 0.01, bounds=[-inf:inf]>), ('nbar', <Parameter 'nbar', 5.0, bounds=[-inf:inf]>), ('f_rabi', <Parameter 'f_rabi', 5000.0, bounds=[-inf:inf]>), ('delta', <Parameter 'delta', 0.0, bounds=[-inf:inf]>), ('delta_fluctuations', <Parameter 'delta_fluctuations', 0.0, bounds=[None:None]>), ('trap_freq', <Parameter 'trap_freq', 1.0, bounds=[-inf:inf]>), ('sideband', <Parameter 'sideband', 0.0, bounds=[-inf:inf]>), ('nmax', <Parameter 'nmax', 1000, bounds=[-inf:inf]>), ('angle', <Parameter 'angle', 0.7853981633974483, bounds=[-inf:inf]>), ('rabi_type', <Parameter 'rabi_type', 'thermal', bounds=[-inf:inf]>)])"
       ]
      }
     ],
     "prompt_number": 166
    },
    {
     "cell_type": "code",
     "collapsed": false,
     "input": [
      "data"
     ],
     "language": "python",
     "metadata": {},
     "outputs": [
      {
       "metadata": {},
       "output_type": "pyout",
       "prompt_number": 167,
       "text": [
        "array([  0.00000000e+00,   9.91878125e-02,   3.57398317e-01,\n",
        "         6.72186077e-01,   9.18658588e-01,   9.99027620e-01,\n",
        "         8.81406842e-01,   6.12462708e-01,   2.98899355e-01,\n",
        "         6.51234751e-02,   3.88572834e-03,   1.39481850e-01,\n",
        "         4.18113439e-01,   7.29232754e-01,   9.49402834e-01,\n",
        "         9.91271322e-01,   8.38227498e-01,   5.50992355e-01,\n",
        "         2.43527175e-01,   3.78190508e-02,   1.54823377e-02,\n",
        "         1.85378259e-01,   4.80099556e-01,   7.82714761e-01,\n",
        "         9.73161127e-01,   9.75879640e-01,   7.89792860e-01,\n",
        "         4.88731950e-01,   1.92143639e-01,   1.76993611e-02,\n",
        "         3.46090478e-02,   2.36162391e-01,   5.42391711e-01,\n",
        "         8.31799718e-01,   9.89563936e-01,   9.53092514e-01,\n",
        "         7.36857131e-01,   4.26650702e-01,   1.45548397e-01,\n",
        "         5.07720767e-03,   6.09676995e-02,   2.91043434e-01,\n",
        "         6.04020224e-01,   8.75723828e-01,   9.98356411e-01,\n",
        "         9.23265157e-01,   6.80244641e-01,   3.65714975e-01,\n",
        "         1.04466408e-01,   1.48494499e-04])"
       ]
      }
     ],
     "prompt_number": 167
    },
    {
     "cell_type": "code",
     "collapsed": false,
     "input": [
      "# initial_guess = {'nbar':20., 'f_rabi':guess(dataobj),  #changing inital guess for rabi frequency to 1/2 max \n",
      "#                      'delta':0., 'delta_fluctuations':0.,\n",
      "#                       'trap_freq':1., 'sideband':0, 'nmax':1000,\n",
      "#                       'projection':pi/4    #depend on top or side=>negligible\n",
      "#                 }\n",
      "# #fit_params = {}\n",
      "\n",
      "# for key in initial_guess.keys():\n",
      "#     fit_params[key] = (False, False, initial_guess[key]) # fix most of the parameters\n",
      "# fit_params['f_rabi'] = (True, False, initial_guess['f_rabi']) # fit for the rabi frequency\n",
      "# carrier_rabi.setUserParameters(fit_params)"
     ],
     "language": "python",
     "metadata": {},
     "outputs": [],
     "prompt_number": 168
    },
    {
     "cell_type": "code",
     "collapsed": false,
     "input": [
      "raw=[]\n",
      "\n",
      "# for i in linspace(0,100,50):\n",
      "j=0\n",
      "for i in data:\n",
      "    tmp=[]\n",
      "    error = random.random()*5\n",
      "    tmp.append(j) #time for rabi flop\n",
      "    tmp.append(i)#excitation probability\n",
      "    tmp.append(error)#error\n",
      "    raw.append(tmp) \n",
      "    j+=2\n",
      "raw\n",
      "array(raw)"
     ],
     "language": "python",
     "metadata": {},
     "outputs": [
      {
       "metadata": {},
       "output_type": "pyout",
       "prompt_number": 173,
       "text": [
        "array([[  0.00000000e+00,   0.00000000e+00,   1.81804288e-01],\n",
        "       [  2.00000000e+00,   9.91878125e-02,   1.15152113e+00],\n",
        "       [  4.00000000e+00,   3.57398317e-01,   3.01569505e+00],\n",
        "       [  6.00000000e+00,   6.72186077e-01,   3.40589883e+00],\n",
        "       [  8.00000000e+00,   9.18658588e-01,   8.64679606e-01],\n",
        "       [  1.00000000e+01,   9.99027620e-01,   4.11234472e+00],\n",
        "       [  1.20000000e+01,   8.81406842e-01,   4.00286091e+00],\n",
        "       [  1.40000000e+01,   6.12462708e-01,   1.70774523e+00],\n",
        "       [  1.60000000e+01,   2.98899355e-01,   3.63576342e+00],\n",
        "       [  1.80000000e+01,   6.51234751e-02,   3.66890914e+00],\n",
        "       [  2.00000000e+01,   3.88572834e-03,   4.09411168e+00],\n",
        "       [  2.20000000e+01,   1.39481850e-01,   4.38698963e+00],\n",
        "       [  2.40000000e+01,   4.18113439e-01,   4.78125910e+00],\n",
        "       [  2.60000000e+01,   7.29232754e-01,   3.67459346e+00],\n",
        "       [  2.80000000e+01,   9.49402834e-01,   6.83566529e-01],\n",
        "       [  3.00000000e+01,   9.91271322e-01,   4.11169311e-01],\n",
        "       [  3.20000000e+01,   8.38227498e-01,   2.38360741e+00],\n",
        "       [  3.40000000e+01,   5.50992355e-01,   6.44737492e-03],\n",
        "       [  3.60000000e+01,   2.43527175e-01,   5.41969619e-01],\n",
        "       [  3.80000000e+01,   3.78190508e-02,   9.98577888e-01],\n",
        "       [  4.00000000e+01,   1.54823377e-02,   3.18566139e+00],\n",
        "       [  4.20000000e+01,   1.85378259e-01,   4.31324024e+00],\n",
        "       [  4.40000000e+01,   4.80099556e-01,   1.69189732e+00],\n",
        "       [  4.60000000e+01,   7.82714761e-01,   1.69248898e+00],\n",
        "       [  4.80000000e+01,   9.73161127e-01,   2.81556251e+00],\n",
        "       [  5.00000000e+01,   9.75879640e-01,   4.90098952e-01],\n",
        "       [  5.20000000e+01,   7.89792860e-01,   1.86069196e-01],\n",
        "       [  5.40000000e+01,   4.88731950e-01,   4.77984973e+00],\n",
        "       [  5.60000000e+01,   1.92143639e-01,   2.50483782e+00],\n",
        "       [  5.80000000e+01,   1.76993611e-02,   4.22887349e+00],\n",
        "       [  6.00000000e+01,   3.46090478e-02,   4.35925231e+00],\n",
        "       [  6.20000000e+01,   2.36162391e-01,   3.08492524e+00],\n",
        "       [  6.40000000e+01,   5.42391711e-01,   1.27719333e+00],\n",
        "       [  6.60000000e+01,   8.31799718e-01,   1.17167537e+00],\n",
        "       [  6.80000000e+01,   9.89563936e-01,   4.93863016e-01],\n",
        "       [  7.00000000e+01,   9.53092514e-01,   1.27695390e+00],\n",
        "       [  7.20000000e+01,   7.36857131e-01,   1.71920777e+00],\n",
        "       [  7.40000000e+01,   4.26650702e-01,   3.86980126e+00],\n",
        "       [  7.60000000e+01,   1.45548397e-01,   2.72553247e+00],\n",
        "       [  7.80000000e+01,   5.07720767e-03,   4.89180565e-01],\n",
        "       [  8.00000000e+01,   6.09676995e-02,   3.13058096e+00],\n",
        "       [  8.20000000e+01,   2.91043434e-01,   3.04550616e+00],\n",
        "       [  8.40000000e+01,   6.04020224e-01,   4.83120312e+00],\n",
        "       [  8.60000000e+01,   8.75723828e-01,   3.91816071e+00],\n",
        "       [  8.80000000e+01,   9.98356411e-01,   9.49678608e-01],\n",
        "       [  9.00000000e+01,   9.23265157e-01,   4.41531779e+00],\n",
        "       [  9.20000000e+01,   6.80244641e-01,   2.57625542e+00],\n",
        "       [  9.40000000e+01,   3.65714975e-01,   1.40600621e+00],\n",
        "       [  9.60000000e+01,   1.04466408e-01,   3.71224123e+00],\n",
        "       [  9.80000000e+01,   1.48494499e-04,   3.08207998e+00]])"
       ]
      }
     ],
     "prompt_number": 173
    },
    {
     "cell_type": "code",
     "collapsed": false,
     "input": [
      "carrier_rabi = RabiFlop(raw)\n",
      "x,y = carrier_rabi.fit()"
     ],
     "language": "python",
     "metadata": {},
     "outputs": [
      {
       "ename": "KeyError",
       "evalue": "'nbar'",
       "output_type": "pyerr",
       "traceback": [
        "\u001b[0;31m---------------------------------------------------------------------------\u001b[0m\n\u001b[0;31mKeyError\u001b[0m                                  Traceback (most recent call last)",
        "\u001b[0;32m<ipython-input-184-897b88ab5b47>\u001b[0m in \u001b[0;36m<module>\u001b[0;34m()\u001b[0m\n\u001b[1;32m      1\u001b[0m \u001b[0mcarrier_rabi\u001b[0m \u001b[0;34m=\u001b[0m \u001b[0mRabiFlop\u001b[0m\u001b[0;34m(\u001b[0m\u001b[0mraw\u001b[0m\u001b[0;34m)\u001b[0m\u001b[0;34m\u001b[0m\u001b[0m\n\u001b[0;32m----> 2\u001b[0;31m \u001b[0mx\u001b[0m\u001b[0;34m,\u001b[0m\u001b[0my\u001b[0m \u001b[0;34m=\u001b[0m \u001b[0mcarrier_rabi\u001b[0m\u001b[0;34m.\u001b[0m\u001b[0mfit\u001b[0m\u001b[0;34m(\u001b[0m\u001b[0;34m)\u001b[0m\u001b[0;34m\u001b[0m\u001b[0m\n\u001b[0m",
        "\u001b[0;32m/home/lab/Desktop/common/abstractdevices/fitter/datafit.py\u001b[0m in \u001b[0;36mfit\u001b[0;34m(self)\u001b[0m\n\u001b[1;32m     51\u001b[0m         \u001b[0mself\u001b[0m\u001b[0;34m.\u001b[0m\u001b[0mget_fitting_parameters\u001b[0m\u001b[0;34m(\u001b[0m\u001b[0;34m)\u001b[0m\u001b[0;34m\u001b[0m\u001b[0m\n\u001b[1;32m     52\u001b[0m         \u001b[0;32mprint\u001b[0m \u001b[0mself\u001b[0m\u001b[0;34m.\u001b[0m\u001b[0mparams\u001b[0m\u001b[0;34m\u001b[0m\u001b[0m\n\u001b[0;32m---> 53\u001b[0;31m         \u001b[0mself\u001b[0m\u001b[0;34m.\u001b[0m\u001b[0mresult\u001b[0m \u001b[0;34m=\u001b[0m \u001b[0mlmfit\u001b[0m\u001b[0;34m.\u001b[0m\u001b[0mminimize\u001b[0m\u001b[0;34m(\u001b[0m\u001b[0mself\u001b[0m\u001b[0;34m.\u001b[0m\u001b[0mresidual\u001b[0m\u001b[0;34m,\u001b[0m \u001b[0mself\u001b[0m\u001b[0;34m.\u001b[0m\u001b[0mparams\u001b[0m\u001b[0;34m,\u001b[0m \u001b[0margs\u001b[0m \u001b[0;34m=\u001b[0m \u001b[0;34m(\u001b[0m\u001b[0mself\u001b[0m\u001b[0;34m.\u001b[0m\u001b[0mdataX\u001b[0m\u001b[0;34m,\u001b[0m \u001b[0mself\u001b[0m\u001b[0;34m.\u001b[0m\u001b[0mdataY\u001b[0m\u001b[0;34m)\u001b[0m\u001b[0;34m)\u001b[0m\u001b[0;34m\u001b[0m\u001b[0m\n\u001b[0m\u001b[1;32m     54\u001b[0m         \u001b[0mself\u001b[0m\u001b[0;34m.\u001b[0m\u001b[0mfitAccepted\u001b[0m \u001b[0;34m=\u001b[0m \u001b[0mTrue\u001b[0m\u001b[0;34m\u001b[0m\u001b[0m\n\u001b[1;32m     55\u001b[0m         \u001b[0mpoints\u001b[0m \u001b[0;34m=\u001b[0m \u001b[0mlen\u001b[0m\u001b[0;34m(\u001b[0m\u001b[0mself\u001b[0m\u001b[0;34m.\u001b[0m\u001b[0mdataX\u001b[0m\u001b[0;34m)\u001b[0m\u001b[0;34m\u001b[0m\u001b[0m\n",
        "\u001b[0;32m/usr/local/lib/python2.7/dist-packages/lmfit/minimizer.pyc\u001b[0m in \u001b[0;36mminimize\u001b[0;34m(fcn, params, method, args, kws, scale_covar, engine, iter_cb, **fit_kws)\u001b[0m\n\u001b[1;32m    606\u001b[0m                     \u001b[0mfitfunction\u001b[0m \u001b[0;34m=\u001b[0m \u001b[0mgetattr\u001b[0m\u001b[0;34m(\u001b[0m\u001b[0mfitter\u001b[0m\u001b[0;34m,\u001b[0m \u001b[0mmethod\u001b[0m\u001b[0;34m)\u001b[0m\u001b[0;34m\u001b[0m\u001b[0m\n\u001b[1;32m    607\u001b[0m     \u001b[0;32mif\u001b[0m \u001b[0mfitfunction\u001b[0m \u001b[0;32mis\u001b[0m \u001b[0;32mnot\u001b[0m \u001b[0mNone\u001b[0m\u001b[0;34m:\u001b[0m\u001b[0;34m\u001b[0m\u001b[0m\n\u001b[0;32m--> 608\u001b[0;31m         \u001b[0mfitfunction\u001b[0m\u001b[0;34m(\u001b[0m\u001b[0;34m**\u001b[0m\u001b[0mkwargs\u001b[0m\u001b[0;34m)\u001b[0m\u001b[0;34m\u001b[0m\u001b[0m\n\u001b[0m\u001b[1;32m    609\u001b[0m     \u001b[0;32mreturn\u001b[0m \u001b[0mfitter\u001b[0m\u001b[0;34m\u001b[0m\u001b[0m\n",
        "\u001b[0;32m/usr/local/lib/python2.7/dist-packages/lmfit/minimizer.pyc\u001b[0m in \u001b[0;36mleastsq\u001b[0;34m(self, **kws)\u001b[0m\n\u001b[1;32m    455\u001b[0m         \u001b[0morig_warn_settings\u001b[0m \u001b[0;34m=\u001b[0m \u001b[0mnp\u001b[0m\u001b[0;34m.\u001b[0m\u001b[0mgeterr\u001b[0m\u001b[0;34m(\u001b[0m\u001b[0;34m)\u001b[0m\u001b[0;34m\u001b[0m\u001b[0m\n\u001b[1;32m    456\u001b[0m         \u001b[0mnp\u001b[0m\u001b[0;34m.\u001b[0m\u001b[0mseterr\u001b[0m\u001b[0;34m(\u001b[0m\u001b[0mall\u001b[0m\u001b[0;34m=\u001b[0m\u001b[0;34m'ignore'\u001b[0m\u001b[0;34m)\u001b[0m\u001b[0;34m\u001b[0m\u001b[0m\n\u001b[0;32m--> 457\u001b[0;31m         \u001b[0mlsout\u001b[0m \u001b[0;34m=\u001b[0m \u001b[0mscipy_leastsq\u001b[0m\u001b[0;34m(\u001b[0m\u001b[0mself\u001b[0m\u001b[0;34m.\u001b[0m\u001b[0m__residual\u001b[0m\u001b[0;34m,\u001b[0m \u001b[0mself\u001b[0m\u001b[0;34m.\u001b[0m\u001b[0mvars\u001b[0m\u001b[0;34m,\u001b[0m \u001b[0;34m**\u001b[0m\u001b[0mlskws\u001b[0m\u001b[0;34m)\u001b[0m\u001b[0;34m\u001b[0m\u001b[0m\n\u001b[0m\u001b[1;32m    458\u001b[0m         \u001b[0m_best\u001b[0m\u001b[0;34m,\u001b[0m \u001b[0m_cov\u001b[0m\u001b[0;34m,\u001b[0m \u001b[0minfodict\u001b[0m\u001b[0;34m,\u001b[0m \u001b[0merrmsg\u001b[0m\u001b[0;34m,\u001b[0m \u001b[0mier\u001b[0m \u001b[0;34m=\u001b[0m \u001b[0mlsout\u001b[0m\u001b[0;34m\u001b[0m\u001b[0m\n\u001b[1;32m    459\u001b[0m \u001b[0;34m\u001b[0m\u001b[0m\n",
        "\u001b[0;32m/usr/local/lib/python2.7/dist-packages/scipy/optimize/minpack.pyc\u001b[0m in \u001b[0;36mleastsq\u001b[0;34m(func, x0, args, Dfun, full_output, col_deriv, ftol, xtol, gtol, maxfev, epsfcn, factor, diag)\u001b[0m\n\u001b[1;32m    367\u001b[0m     \u001b[0;32mif\u001b[0m \u001b[0;32mnot\u001b[0m \u001b[0misinstance\u001b[0m\u001b[0;34m(\u001b[0m\u001b[0margs\u001b[0m\u001b[0;34m,\u001b[0m \u001b[0mtuple\u001b[0m\u001b[0;34m)\u001b[0m\u001b[0;34m:\u001b[0m\u001b[0;34m\u001b[0m\u001b[0m\n\u001b[1;32m    368\u001b[0m         \u001b[0margs\u001b[0m \u001b[0;34m=\u001b[0m \u001b[0;34m(\u001b[0m\u001b[0margs\u001b[0m\u001b[0;34m,\u001b[0m\u001b[0;34m)\u001b[0m\u001b[0;34m\u001b[0m\u001b[0m\n\u001b[0;32m--> 369\u001b[0;31m     \u001b[0mshape\u001b[0m\u001b[0;34m,\u001b[0m \u001b[0mdtype\u001b[0m \u001b[0;34m=\u001b[0m \u001b[0m_check_func\u001b[0m\u001b[0;34m(\u001b[0m\u001b[0;34m'leastsq'\u001b[0m\u001b[0;34m,\u001b[0m \u001b[0;34m'func'\u001b[0m\u001b[0;34m,\u001b[0m \u001b[0mfunc\u001b[0m\u001b[0;34m,\u001b[0m \u001b[0mx0\u001b[0m\u001b[0;34m,\u001b[0m \u001b[0margs\u001b[0m\u001b[0;34m,\u001b[0m \u001b[0mn\u001b[0m\u001b[0;34m)\u001b[0m\u001b[0;34m\u001b[0m\u001b[0m\n\u001b[0m\u001b[1;32m    370\u001b[0m     \u001b[0mm\u001b[0m \u001b[0;34m=\u001b[0m \u001b[0mshape\u001b[0m\u001b[0;34m[\u001b[0m\u001b[0;36m0\u001b[0m\u001b[0;34m]\u001b[0m\u001b[0;34m\u001b[0m\u001b[0m\n\u001b[1;32m    371\u001b[0m     \u001b[0;32mif\u001b[0m \u001b[0mn\u001b[0m \u001b[0;34m>\u001b[0m \u001b[0mm\u001b[0m\u001b[0;34m:\u001b[0m\u001b[0;34m\u001b[0m\u001b[0m\n",
        "\u001b[0;32m/usr/local/lib/python2.7/dist-packages/scipy/optimize/minpack.pyc\u001b[0m in \u001b[0;36m_check_func\u001b[0;34m(checker, argname, thefunc, x0, args, numinputs, output_shape)\u001b[0m\n\u001b[1;32m     18\u001b[0m def _check_func(checker, argname, thefunc, x0, args, numinputs,\n\u001b[1;32m     19\u001b[0m                 output_shape=None):\n\u001b[0;32m---> 20\u001b[0;31m     \u001b[0mres\u001b[0m \u001b[0;34m=\u001b[0m \u001b[0matleast_1d\u001b[0m\u001b[0;34m(\u001b[0m\u001b[0mthefunc\u001b[0m\u001b[0;34m(\u001b[0m\u001b[0;34m*\u001b[0m\u001b[0;34m(\u001b[0m\u001b[0;34m(\u001b[0m\u001b[0mx0\u001b[0m\u001b[0;34m[\u001b[0m\u001b[0;34m:\u001b[0m\u001b[0mnuminputs\u001b[0m\u001b[0;34m]\u001b[0m\u001b[0;34m,\u001b[0m\u001b[0;34m)\u001b[0m \u001b[0;34m+\u001b[0m \u001b[0margs\u001b[0m\u001b[0;34m)\u001b[0m\u001b[0;34m)\u001b[0m\u001b[0;34m)\u001b[0m\u001b[0;34m\u001b[0m\u001b[0m\n\u001b[0m\u001b[1;32m     21\u001b[0m     \u001b[0;32mif\u001b[0m \u001b[0;34m(\u001b[0m\u001b[0moutput_shape\u001b[0m \u001b[0;32mis\u001b[0m \u001b[0;32mnot\u001b[0m \u001b[0mNone\u001b[0m\u001b[0;34m)\u001b[0m \u001b[0;32mand\u001b[0m \u001b[0;34m(\u001b[0m\u001b[0mshape\u001b[0m\u001b[0;34m(\u001b[0m\u001b[0mres\u001b[0m\u001b[0;34m)\u001b[0m \u001b[0;34m!=\u001b[0m \u001b[0moutput_shape\u001b[0m\u001b[0;34m)\u001b[0m\u001b[0;34m:\u001b[0m\u001b[0;34m\u001b[0m\u001b[0m\n\u001b[1;32m     22\u001b[0m         \u001b[0;32mif\u001b[0m \u001b[0;34m(\u001b[0m\u001b[0moutput_shape\u001b[0m\u001b[0;34m[\u001b[0m\u001b[0;36m0\u001b[0m\u001b[0;34m]\u001b[0m \u001b[0;34m!=\u001b[0m \u001b[0;36m1\u001b[0m\u001b[0;34m)\u001b[0m\u001b[0;34m:\u001b[0m\u001b[0;34m\u001b[0m\u001b[0m\n",
        "\u001b[0;32m/usr/local/lib/python2.7/dist-packages/lmfit/minimizer.pyc\u001b[0m in \u001b[0;36m__residual\u001b[0;34m(self, fvars)\u001b[0m\n\u001b[1;32m    188\u001b[0m \u001b[0;34m\u001b[0m\u001b[0m\n\u001b[1;32m    189\u001b[0m         \u001b[0mself\u001b[0m\u001b[0;34m.\u001b[0m\u001b[0mupdate_constraints\u001b[0m\u001b[0;34m(\u001b[0m\u001b[0;34m)\u001b[0m\u001b[0;34m\u001b[0m\u001b[0m\n\u001b[0;32m--> 190\u001b[0;31m         \u001b[0mout\u001b[0m \u001b[0;34m=\u001b[0m \u001b[0mself\u001b[0m\u001b[0;34m.\u001b[0m\u001b[0muserfcn\u001b[0m\u001b[0;34m(\u001b[0m\u001b[0mself\u001b[0m\u001b[0;34m.\u001b[0m\u001b[0mparams\u001b[0m\u001b[0;34m,\u001b[0m \u001b[0;34m*\u001b[0m\u001b[0mself\u001b[0m\u001b[0;34m.\u001b[0m\u001b[0muserargs\u001b[0m\u001b[0;34m,\u001b[0m \u001b[0;34m**\u001b[0m\u001b[0mself\u001b[0m\u001b[0;34m.\u001b[0m\u001b[0muserkws\u001b[0m\u001b[0;34m)\u001b[0m\u001b[0;34m\u001b[0m\u001b[0m\n\u001b[0m\u001b[1;32m    191\u001b[0m         \u001b[0;32mif\u001b[0m \u001b[0mhasattr\u001b[0m\u001b[0;34m(\u001b[0m\u001b[0mself\u001b[0m\u001b[0;34m.\u001b[0m\u001b[0miter_cb\u001b[0m\u001b[0;34m,\u001b[0m \u001b[0;34m'__call__'\u001b[0m\u001b[0;34m)\u001b[0m\u001b[0;34m:\u001b[0m\u001b[0;34m\u001b[0m\u001b[0m\n\u001b[1;32m    192\u001b[0m             self.iter_cb(self.params, self.nfev, out,\n",
        "\u001b[0;32m/home/lab/Desktop/common/abstractdevices/fitter/datafit.py\u001b[0m in \u001b[0;36mresidual\u001b[0;34m(self, params, x, data)\u001b[0m\n\u001b[1;32m     40\u001b[0m         \u001b[0mself\u001b[0m\u001b[0;34m.\u001b[0m\u001b[0mall_parameters\u001b[0m\u001b[0;34m=\u001b[0m\u001b[0mself\u001b[0m\u001b[0;34m.\u001b[0m\u001b[0minitial_values\u001b[0m\u001b[0;34m.\u001b[0m\u001b[0mkeys\u001b[0m\u001b[0;34m(\u001b[0m\u001b[0;34m)\u001b[0m\u001b[0;34m\u001b[0m\u001b[0m\n\u001b[1;32m     41\u001b[0m     \u001b[0;32mdef\u001b[0m \u001b[0mresidual\u001b[0m\u001b[0;34m(\u001b[0m\u001b[0mself\u001b[0m\u001b[0;34m,\u001b[0m \u001b[0mparams\u001b[0m\u001b[0;34m,\u001b[0m \u001b[0mx\u001b[0m\u001b[0;34m,\u001b[0m \u001b[0mdata\u001b[0m\u001b[0;34m)\u001b[0m\u001b[0;34m:\u001b[0m\u001b[0;34m\u001b[0m\u001b[0m\n\u001b[0;32m---> 42\u001b[0;31m         \u001b[0mmodel\u001b[0m \u001b[0;34m=\u001b[0m \u001b[0mself\u001b[0m\u001b[0;34m.\u001b[0m\u001b[0mmodel\u001b[0m\u001b[0;34m(\u001b[0m\u001b[0mparams\u001b[0m\u001b[0;34m,\u001b[0m \u001b[0mx\u001b[0m\u001b[0;34m)\u001b[0m\u001b[0;34m\u001b[0m\u001b[0m\n\u001b[0m\u001b[1;32m     43\u001b[0m         \u001b[0;32mreturn\u001b[0m \u001b[0mmodel\u001b[0m \u001b[0;34m-\u001b[0m \u001b[0mdata\u001b[0m\u001b[0;34m\u001b[0m\u001b[0m\n\u001b[1;32m     44\u001b[0m \u001b[0;34m\u001b[0m\u001b[0m\n",
        "\u001b[0;32m/home/lab/Desktop/common/abstractdevices/fitter/rabiflop_modified_test.py\u001b[0m in \u001b[0;36mmodel\u001b[0;34m(self, params, x)\u001b[0m\n\u001b[1;32m     65\u001b[0m         \u001b[0;31m#eta=0.05\u001b[0m\u001b[0;34m\u001b[0m\u001b[0;34m\u001b[0m\u001b[0m\n\u001b[1;32m     66\u001b[0m         \u001b[0;31m#eta = params['eta'].value\u001b[0m\u001b[0;34m\u001b[0m\u001b[0;34m\u001b[0m\u001b[0m\n\u001b[0;32m---> 67\u001b[0;31m         \u001b[0;31m#nbar = params['nbar'].value\u001b[0m\u001b[0;34m\u001b[0m\u001b[0;34m\u001b[0m\u001b[0m\n\u001b[0m\u001b[1;32m     68\u001b[0m         \u001b[0;31m#nbar =5\u001b[0m\u001b[0;34m\u001b[0m\u001b[0;34m\u001b[0m\u001b[0m\n\u001b[1;32m     69\u001b[0m         \u001b[0mdelta\u001b[0m \u001b[0;34m=\u001b[0m \u001b[0mparams\u001b[0m\u001b[0;34m[\u001b[0m\u001b[0;34m'delta'\u001b[0m\u001b[0;34m]\u001b[0m\u001b[0;34m.\u001b[0m\u001b[0mvalue\u001b[0m\u001b[0;34m\u001b[0m\u001b[0m\n",
        "\u001b[0;31mKeyError\u001b[0m: 'nbar'"
       ]
      },
      {
       "output_type": "stream",
       "stream": "stdout",
       "text": [
        "Parameters()\n",
        "the length of x is50\n"
       ]
      }
     ],
     "prompt_number": 184
    },
    {
     "cell_type": "code",
     "collapsed": false,
     "input": [
      "plot(car_data[:,0], car_data[:,1],'o')\n",
      "plot(x,y) \n",
      "f_rabi = carrier_rabi.get_parameter_value('f_rabi') # rabi frequency in Hz\n",
      "f_rabi = carrier_rabi.get_parameter_value('f_rabi') # rabi frequency in Hz\n",
      "print (f_rabi)  "
     ],
     "language": "python",
     "metadata": {},
     "outputs": []
    },
    {
     "cell_type": "code",
     "collapsed": false,
     "input": [
      "params['nbar'].value"
     ],
     "language": "python",
     "metadata": {},
     "outputs": [
      {
       "metadata": {},
       "output_type": "pyout",
       "prompt_number": 180,
       "text": [
        "5.0"
       ]
      }
     ],
     "prompt_number": 180
    },
    {
     "cell_type": "code",
     "collapsed": false,
     "input": [],
     "language": "python",
     "metadata": {},
     "outputs": []
    }
   ],
   "metadata": {}
  }
 ]
}